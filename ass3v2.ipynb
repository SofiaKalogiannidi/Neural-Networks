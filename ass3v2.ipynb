{
  "nbformat": 4,
  "nbformat_minor": 0,
  "metadata": {
    "colab": {
      "provenance": []
    },
    "kernelspec": {
      "name": "python3",
      "display_name": "Python 3"
    },
    "language_info": {
      "name": "python"
    },
    "accelerator": "GPU",
    "gpuClass": "standard"
  },
  "cells": [
    {
      "cell_type": "markdown",
      "source": [
        "#loading dataset"
      ],
      "metadata": {
        "id": "SoDWPTWPQ0J3"
      }
    },
    {
      "cell_type": "code",
      "execution_count": null,
      "metadata": {
        "colab": {
          "base_uri": "https://localhost:8080/"
        },
        "id": "hbutLLaOQv0S",
        "outputId": "0d797688-483e-43bc-8675-6796cd7b10dc"
      },
      "outputs": [
        {
          "output_type": "stream",
          "name": "stdout",
          "text": [
            "Mounted at /content/drive\n",
            "/usr/local/lib/python3.8/dist-packages/gdown/cli.py:127: FutureWarning: Option `--id` was deprecated in version 4.3.1 and will be removed in 5.0. You don't need to pass it anymore to use a file ID.\n",
            "  warnings.warn(\n",
            "Downloading...\n",
            "From: https://drive.google.com/uc?id=16fcKbkqAvxq6yHlpIfcvbLe6Y1Aco0sZ\n",
            "To: /content/imdb-reviews.csv\n",
            "100% 61.9M/61.9M [00:00<00:00, 69.8MB/s]\n"
          ]
        }
      ],
      "source": [
        "from google.colab import drive\n",
        "drive.mount('/content/drive')\n",
        "!gdown --id 16fcKbkqAvxq6yHlpIfcvbLe6Y1Aco0sZ"
      ]
    },
    {
      "cell_type": "code",
      "source": [
        "#!pip install torch==1.7.1\n",
        "#!pip install torchtext==0.8.1\n",
        "import torch\n",
        "import torchtext \n",
        "from torchtext import data\n",
        "device = torch.device('cuda' if torch.cuda.is_available() else 'cpu')\n",
        "\n",
        "SEED = 1234\n",
        "import pandas as pd\n",
        "import numpy as np\n",
        "torch.manual_seed(SEED)\n",
        "torch.cuda.manual_seed(SEED)\n",
        "torch.backends.cudnn.deterministic = True\n",
        "import torch.nn as nn\n",
        "import torch.optim as optim\n",
        "import torch.nn.functional as F\n",
        "import torchtext\n",
        "\n",
        "import nltk\n",
        "\n",
        "import random\n",
        "from sklearn.metrics import classification_report\n",
        "\n",
        "\n",
        "%matplotlib inline  \n",
        "\n"
      ],
      "metadata": {
        "id": "TdSVJogzR6gL"
      },
      "execution_count": null,
      "outputs": []
    },
    {
      "cell_type": "code",
      "source": [
        "import pandas as pd\n",
        "\n",
        "df = pd.read_csv('imdb-reviews.csv',sep='\\t')\n"
      ],
      "metadata": {
        "id": "iism5DD0SkNt"
      },
      "execution_count": null,
      "outputs": []
    },
    {
      "cell_type": "markdown",
      "source": [
        "#create a column called sentiment"
      ],
      "metadata": {
        "id": "ZXrgnYGhToTe"
      }
    },
    {
      "cell_type": "code",
      "source": [
        "def categorise(row):  \n",
        "    if row['rating'] >= 0.0 and row['rating'] <= 4.0:\n",
        "        return 0\n",
        "    else:\n",
        "        return 1\n",
        "df['sentiment'] = df.apply(lambda row: categorise(row), axis=1)\n",
        "df.head()"
      ],
      "metadata": {
        "colab": {
          "base_uri": "https://localhost:8080/",
          "height": 206
        },
        "id": "Cf_wx7FZTsu_",
        "outputId": "aacb38c0-7e4d-40ac-ce54-142b33e54d52"
      },
      "execution_count": null,
      "outputs": [
        {
          "output_type": "execute_result",
          "data": {
            "text/plain": [
              "                                                url  rating  \\\n",
              "0  http://www.imdb.com/title/tt0120623/usercomments    10.0   \n",
              "1  http://www.imdb.com/title/tt0043117/usercomments     9.0   \n",
              "2  http://www.imdb.com/title/tt0043117/usercomments    10.0   \n",
              "3  http://www.imdb.com/title/tt0835204/usercomments     4.0   \n",
              "4  http://www.imdb.com/title/tt0499603/usercomments    10.0   \n",
              "\n",
              "                                              review  sentiment  \n",
              "0  I thought this was a quiet good movie. It was ...          1  \n",
              "1  Wagon Master is a very unique film amongst Joh...          1  \n",
              "2  This film has to be as near to perfect a film ...          1  \n",
              "3  I gave this 4 stars because it has a lot of in...          0  \n",
              "4  This movie is really genuine and random. It's ...          1  "
            ],
            "text/html": [
              "\n",
              "  <div id=\"df-406337e3-3987-4f0d-8fb4-454482c4fd46\">\n",
              "    <div class=\"colab-df-container\">\n",
              "      <div>\n",
              "<style scoped>\n",
              "    .dataframe tbody tr th:only-of-type {\n",
              "        vertical-align: middle;\n",
              "    }\n",
              "\n",
              "    .dataframe tbody tr th {\n",
              "        vertical-align: top;\n",
              "    }\n",
              "\n",
              "    .dataframe thead th {\n",
              "        text-align: right;\n",
              "    }\n",
              "</style>\n",
              "<table border=\"1\" class=\"dataframe\">\n",
              "  <thead>\n",
              "    <tr style=\"text-align: right;\">\n",
              "      <th></th>\n",
              "      <th>url</th>\n",
              "      <th>rating</th>\n",
              "      <th>review</th>\n",
              "      <th>sentiment</th>\n",
              "    </tr>\n",
              "  </thead>\n",
              "  <tbody>\n",
              "    <tr>\n",
              "      <th>0</th>\n",
              "      <td>http://www.imdb.com/title/tt0120623/usercomments</td>\n",
              "      <td>10.0</td>\n",
              "      <td>I thought this was a quiet good movie. It was ...</td>\n",
              "      <td>1</td>\n",
              "    </tr>\n",
              "    <tr>\n",
              "      <th>1</th>\n",
              "      <td>http://www.imdb.com/title/tt0043117/usercomments</td>\n",
              "      <td>9.0</td>\n",
              "      <td>Wagon Master is a very unique film amongst Joh...</td>\n",
              "      <td>1</td>\n",
              "    </tr>\n",
              "    <tr>\n",
              "      <th>2</th>\n",
              "      <td>http://www.imdb.com/title/tt0043117/usercomments</td>\n",
              "      <td>10.0</td>\n",
              "      <td>This film has to be as near to perfect a film ...</td>\n",
              "      <td>1</td>\n",
              "    </tr>\n",
              "    <tr>\n",
              "      <th>3</th>\n",
              "      <td>http://www.imdb.com/title/tt0835204/usercomments</td>\n",
              "      <td>4.0</td>\n",
              "      <td>I gave this 4 stars because it has a lot of in...</td>\n",
              "      <td>0</td>\n",
              "    </tr>\n",
              "    <tr>\n",
              "      <th>4</th>\n",
              "      <td>http://www.imdb.com/title/tt0499603/usercomments</td>\n",
              "      <td>10.0</td>\n",
              "      <td>This movie is really genuine and random. It's ...</td>\n",
              "      <td>1</td>\n",
              "    </tr>\n",
              "  </tbody>\n",
              "</table>\n",
              "</div>\n",
              "      <button class=\"colab-df-convert\" onclick=\"convertToInteractive('df-406337e3-3987-4f0d-8fb4-454482c4fd46')\"\n",
              "              title=\"Convert this dataframe to an interactive table.\"\n",
              "              style=\"display:none;\">\n",
              "        \n",
              "  <svg xmlns=\"http://www.w3.org/2000/svg\" height=\"24px\"viewBox=\"0 0 24 24\"\n",
              "       width=\"24px\">\n",
              "    <path d=\"M0 0h24v24H0V0z\" fill=\"none\"/>\n",
              "    <path d=\"M18.56 5.44l.94 2.06.94-2.06 2.06-.94-2.06-.94-.94-2.06-.94 2.06-2.06.94zm-11 1L8.5 8.5l.94-2.06 2.06-.94-2.06-.94L8.5 2.5l-.94 2.06-2.06.94zm10 10l.94 2.06.94-2.06 2.06-.94-2.06-.94-.94-2.06-.94 2.06-2.06.94z\"/><path d=\"M17.41 7.96l-1.37-1.37c-.4-.4-.92-.59-1.43-.59-.52 0-1.04.2-1.43.59L10.3 9.45l-7.72 7.72c-.78.78-.78 2.05 0 2.83L4 21.41c.39.39.9.59 1.41.59.51 0 1.02-.2 1.41-.59l7.78-7.78 2.81-2.81c.8-.78.8-2.07 0-2.86zM5.41 20L4 18.59l7.72-7.72 1.47 1.35L5.41 20z\"/>\n",
              "  </svg>\n",
              "      </button>\n",
              "      \n",
              "  <style>\n",
              "    .colab-df-container {\n",
              "      display:flex;\n",
              "      flex-wrap:wrap;\n",
              "      gap: 12px;\n",
              "    }\n",
              "\n",
              "    .colab-df-convert {\n",
              "      background-color: #E8F0FE;\n",
              "      border: none;\n",
              "      border-radius: 50%;\n",
              "      cursor: pointer;\n",
              "      display: none;\n",
              "      fill: #1967D2;\n",
              "      height: 32px;\n",
              "      padding: 0 0 0 0;\n",
              "      width: 32px;\n",
              "    }\n",
              "\n",
              "    .colab-df-convert:hover {\n",
              "      background-color: #E2EBFA;\n",
              "      box-shadow: 0px 1px 2px rgba(60, 64, 67, 0.3), 0px 1px 3px 1px rgba(60, 64, 67, 0.15);\n",
              "      fill: #174EA6;\n",
              "    }\n",
              "\n",
              "    [theme=dark] .colab-df-convert {\n",
              "      background-color: #3B4455;\n",
              "      fill: #D2E3FC;\n",
              "    }\n",
              "\n",
              "    [theme=dark] .colab-df-convert:hover {\n",
              "      background-color: #434B5C;\n",
              "      box-shadow: 0px 1px 3px 1px rgba(0, 0, 0, 0.15);\n",
              "      filter: drop-shadow(0px 1px 2px rgba(0, 0, 0, 0.3));\n",
              "      fill: #FFFFFF;\n",
              "    }\n",
              "  </style>\n",
              "\n",
              "      <script>\n",
              "        const buttonEl =\n",
              "          document.querySelector('#df-406337e3-3987-4f0d-8fb4-454482c4fd46 button.colab-df-convert');\n",
              "        buttonEl.style.display =\n",
              "          google.colab.kernel.accessAllowed ? 'block' : 'none';\n",
              "\n",
              "        async function convertToInteractive(key) {\n",
              "          const element = document.querySelector('#df-406337e3-3987-4f0d-8fb4-454482c4fd46');\n",
              "          const dataTable =\n",
              "            await google.colab.kernel.invokeFunction('convertToInteractive',\n",
              "                                                     [key], {});\n",
              "          if (!dataTable) return;\n",
              "\n",
              "          const docLinkHtml = 'Like what you see? Visit the ' +\n",
              "            '<a target=\"_blank\" href=https://colab.research.google.com/notebooks/data_table.ipynb>data table notebook</a>'\n",
              "            + ' to learn more about interactive tables.';\n",
              "          element.innerHTML = '';\n",
              "          dataTable['output_type'] = 'display_data';\n",
              "          await google.colab.output.renderOutput(dataTable, element);\n",
              "          const docLink = document.createElement('div');\n",
              "          docLink.innerHTML = docLinkHtml;\n",
              "          element.appendChild(docLink);\n",
              "        }\n",
              "      </script>\n",
              "    </div>\n",
              "  </div>\n",
              "  "
            ]
          },
          "metadata": {},
          "execution_count": 5
        }
      ]
    },
    {
      "cell_type": "code",
      "source": [
        "df=df[[\"review\", \"sentiment\"]]\n",
        "df.head()"
      ],
      "metadata": {
        "colab": {
          "base_uri": "https://localhost:8080/",
          "height": 206
        },
        "id": "Yv01EDBeyWGd",
        "outputId": "79858da3-310c-4574-a466-503766be3fba"
      },
      "execution_count": null,
      "outputs": [
        {
          "output_type": "execute_result",
          "data": {
            "text/plain": [
              "                                              review  sentiment\n",
              "0  I thought this was a quiet good movie. It was ...          1\n",
              "1  Wagon Master is a very unique film amongst Joh...          1\n",
              "2  This film has to be as near to perfect a film ...          1\n",
              "3  I gave this 4 stars because it has a lot of in...          0\n",
              "4  This movie is really genuine and random. It's ...          1"
            ],
            "text/html": [
              "\n",
              "  <div id=\"df-3ab4114f-0ff6-4edc-930e-b666b061e999\">\n",
              "    <div class=\"colab-df-container\">\n",
              "      <div>\n",
              "<style scoped>\n",
              "    .dataframe tbody tr th:only-of-type {\n",
              "        vertical-align: middle;\n",
              "    }\n",
              "\n",
              "    .dataframe tbody tr th {\n",
              "        vertical-align: top;\n",
              "    }\n",
              "\n",
              "    .dataframe thead th {\n",
              "        text-align: right;\n",
              "    }\n",
              "</style>\n",
              "<table border=\"1\" class=\"dataframe\">\n",
              "  <thead>\n",
              "    <tr style=\"text-align: right;\">\n",
              "      <th></th>\n",
              "      <th>review</th>\n",
              "      <th>sentiment</th>\n",
              "    </tr>\n",
              "  </thead>\n",
              "  <tbody>\n",
              "    <tr>\n",
              "      <th>0</th>\n",
              "      <td>I thought this was a quiet good movie. It was ...</td>\n",
              "      <td>1</td>\n",
              "    </tr>\n",
              "    <tr>\n",
              "      <th>1</th>\n",
              "      <td>Wagon Master is a very unique film amongst Joh...</td>\n",
              "      <td>1</td>\n",
              "    </tr>\n",
              "    <tr>\n",
              "      <th>2</th>\n",
              "      <td>This film has to be as near to perfect a film ...</td>\n",
              "      <td>1</td>\n",
              "    </tr>\n",
              "    <tr>\n",
              "      <th>3</th>\n",
              "      <td>I gave this 4 stars because it has a lot of in...</td>\n",
              "      <td>0</td>\n",
              "    </tr>\n",
              "    <tr>\n",
              "      <th>4</th>\n",
              "      <td>This movie is really genuine and random. It's ...</td>\n",
              "      <td>1</td>\n",
              "    </tr>\n",
              "  </tbody>\n",
              "</table>\n",
              "</div>\n",
              "      <button class=\"colab-df-convert\" onclick=\"convertToInteractive('df-3ab4114f-0ff6-4edc-930e-b666b061e999')\"\n",
              "              title=\"Convert this dataframe to an interactive table.\"\n",
              "              style=\"display:none;\">\n",
              "        \n",
              "  <svg xmlns=\"http://www.w3.org/2000/svg\" height=\"24px\"viewBox=\"0 0 24 24\"\n",
              "       width=\"24px\">\n",
              "    <path d=\"M0 0h24v24H0V0z\" fill=\"none\"/>\n",
              "    <path d=\"M18.56 5.44l.94 2.06.94-2.06 2.06-.94-2.06-.94-.94-2.06-.94 2.06-2.06.94zm-11 1L8.5 8.5l.94-2.06 2.06-.94-2.06-.94L8.5 2.5l-.94 2.06-2.06.94zm10 10l.94 2.06.94-2.06 2.06-.94-2.06-.94-.94-2.06-.94 2.06-2.06.94z\"/><path d=\"M17.41 7.96l-1.37-1.37c-.4-.4-.92-.59-1.43-.59-.52 0-1.04.2-1.43.59L10.3 9.45l-7.72 7.72c-.78.78-.78 2.05 0 2.83L4 21.41c.39.39.9.59 1.41.59.51 0 1.02-.2 1.41-.59l7.78-7.78 2.81-2.81c.8-.78.8-2.07 0-2.86zM5.41 20L4 18.59l7.72-7.72 1.47 1.35L5.41 20z\"/>\n",
              "  </svg>\n",
              "      </button>\n",
              "      \n",
              "  <style>\n",
              "    .colab-df-container {\n",
              "      display:flex;\n",
              "      flex-wrap:wrap;\n",
              "      gap: 12px;\n",
              "    }\n",
              "\n",
              "    .colab-df-convert {\n",
              "      background-color: #E8F0FE;\n",
              "      border: none;\n",
              "      border-radius: 50%;\n",
              "      cursor: pointer;\n",
              "      display: none;\n",
              "      fill: #1967D2;\n",
              "      height: 32px;\n",
              "      padding: 0 0 0 0;\n",
              "      width: 32px;\n",
              "    }\n",
              "\n",
              "    .colab-df-convert:hover {\n",
              "      background-color: #E2EBFA;\n",
              "      box-shadow: 0px 1px 2px rgba(60, 64, 67, 0.3), 0px 1px 3px 1px rgba(60, 64, 67, 0.15);\n",
              "      fill: #174EA6;\n",
              "    }\n",
              "\n",
              "    [theme=dark] .colab-df-convert {\n",
              "      background-color: #3B4455;\n",
              "      fill: #D2E3FC;\n",
              "    }\n",
              "\n",
              "    [theme=dark] .colab-df-convert:hover {\n",
              "      background-color: #434B5C;\n",
              "      box-shadow: 0px 1px 3px 1px rgba(0, 0, 0, 0.15);\n",
              "      filter: drop-shadow(0px 1px 2px rgba(0, 0, 0, 0.3));\n",
              "      fill: #FFFFFF;\n",
              "    }\n",
              "  </style>\n",
              "\n",
              "      <script>\n",
              "        const buttonEl =\n",
              "          document.querySelector('#df-3ab4114f-0ff6-4edc-930e-b666b061e999 button.colab-df-convert');\n",
              "        buttonEl.style.display =\n",
              "          google.colab.kernel.accessAllowed ? 'block' : 'none';\n",
              "\n",
              "        async function convertToInteractive(key) {\n",
              "          const element = document.querySelector('#df-3ab4114f-0ff6-4edc-930e-b666b061e999');\n",
              "          const dataTable =\n",
              "            await google.colab.kernel.invokeFunction('convertToInteractive',\n",
              "                                                     [key], {});\n",
              "          if (!dataTable) return;\n",
              "\n",
              "          const docLinkHtml = 'Like what you see? Visit the ' +\n",
              "            '<a target=\"_blank\" href=https://colab.research.google.com/notebooks/data_table.ipynb>data table notebook</a>'\n",
              "            + ' to learn more about interactive tables.';\n",
              "          element.innerHTML = '';\n",
              "          dataTable['output_type'] = 'display_data';\n",
              "          await google.colab.output.renderOutput(dataTable, element);\n",
              "          const docLink = document.createElement('div');\n",
              "          docLink.innerHTML = docLinkHtml;\n",
              "          element.appendChild(docLink);\n",
              "        }\n",
              "      </script>\n",
              "    </div>\n",
              "  </div>\n",
              "  "
            ]
          },
          "metadata": {},
          "execution_count": 6
        }
      ]
    },
    {
      "cell_type": "markdown",
      "source": [
        "#Split into train and validation"
      ],
      "metadata": {
        "id": "D5h6Od2XTy3P"
      }
    },
    {
      "cell_type": "code",
      "source": [
        "\n",
        "\n",
        "o_class = df.loc[df.sentiment == 0, :]\n",
        "l_class = df.loc[df.sentiment == 1, :]\n",
        "\n",
        "\n",
        "valid_o = o_class.iloc[19500:, :]\n",
        "valid_l = l_class.iloc[19508:, :]\n",
        "\n",
        "train_o = o_class.iloc[:19500, :]\n",
        "train_l = l_class.iloc[:19508, :]"
      ],
      "metadata": {
        "id": "bwmfLPiaUQ9o"
      },
      "execution_count": null,
      "outputs": []
    },
    {
      "cell_type": "code",
      "source": [
        "train = pd.concat([train_o, train_l], axis=0)\n",
        "print(train.shape)\n",
        "\n",
        "valid = pd.concat([valid_o, valid_l], axis=0)\n",
        "print(valid.shape)\n"
      ],
      "metadata": {
        "colab": {
          "base_uri": "https://localhost:8080/"
        },
        "id": "K6sPm_SkVcgi",
        "outputId": "09456eff-1d1b-4962-cae7-7e05aad944cb"
      },
      "execution_count": null,
      "outputs": [
        {
          "output_type": "stream",
          "name": "stdout",
          "text": [
            "(39008, 2)\n",
            "(6000, 2)\n"
          ]
        }
      ]
    },
    {
      "cell_type": "code",
      "source": [
        "\n",
        "\n",
        "!mkdir torchtext_data\n",
        "\n"
      ],
      "metadata": {
        "id": "n40en469WUoH"
      },
      "execution_count": null,
      "outputs": []
    },
    {
      "cell_type": "code",
      "source": [
        "train.to_csv(\"torchtext_data/train.csv\", index=False)\n",
        "valid.to_csv(\"torchtext_data/valid.csv\", index=False)"
      ],
      "metadata": {
        "id": "z83fcerrWY4N"
      },
      "execution_count": null,
      "outputs": []
    },
    {
      "cell_type": "code",
      "source": [
        "del df, train, valid, train_l, train_o,  valid_l,valid_o, o_class, l_class"
      ],
      "metadata": {
        "id": "ctk5KepfWovW"
      },
      "execution_count": null,
      "outputs": []
    },
    {
      "cell_type": "markdown",
      "source": [
        "#Spacy tokenizer"
      ],
      "metadata": {
        "id": "lyl5Bk8_TxL2"
      }
    },
    {
      "cell_type": "code",
      "source": [
        "\n",
        "#!pip install spacy==2.3.1\n",
        "#!python -m spacy download en\n",
        "#!pip show spacy\n",
        "import spacy\n",
        "nlp = spacy.load('en')"
      ],
      "metadata": {
        "id": "6ZngPCVoXC-X"
      },
      "execution_count": null,
      "outputs": []
    },
    {
      "cell_type": "code",
      "source": [
        "\n",
        "\n",
        "\n",
        "TEXT = data.Field(sequential=True, tokenize=\"spacy\",lower=True,batch_first=True)\n",
        "LABEL = data.LabelField(dtype=torch.long, sequential=False,batch_first=True)\n"
      ],
      "metadata": {
        "colab": {
          "base_uri": "https://localhost:8080/"
        },
        "id": "4Py8n83XX9nH",
        "outputId": "c9744811-7930-4309-8adb-cf044b50da72"
      },
      "execution_count": null,
      "outputs": [
        {
          "output_type": "stream",
          "name": "stderr",
          "text": [
            "/usr/local/lib/python3.8/dist-packages/torchtext/data/field.py:150: UserWarning: Field class will be retired soon and moved to torchtext.legacy. Please see the most recent release notes for further information.\n",
            "  warnings.warn('{} class will be retired soon and moved to torchtext.legacy. Please see the most recent release notes for further information.'.format(self.__class__.__name__), UserWarning)\n",
            "/usr/local/lib/python3.8/dist-packages/torchtext/data/field.py:150: UserWarning: LabelField class will be retired soon and moved to torchtext.legacy. Please see the most recent release notes for further information.\n",
            "  warnings.warn('{} class will be retired soon and moved to torchtext.legacy. Please see the most recent release notes for further information.'.format(self.__class__.__name__), UserWarning)\n"
          ]
        }
      ]
    },
    {
      "cell_type": "code",
      "source": [
        "\n",
        "\n",
        "# loading train, test and validation data \n",
        "train_data, valid_data = data.TabularDataset.splits(\n",
        "    path=\"torchtext_data/\", train=\"train.csv\", \n",
        "    validation=\"valid.csv\",format=\"csv\", skip_header=True, \n",
        "    fields=[('Text', TEXT), ('Label', LABEL)]\n",
        ")\n",
        "\n"
      ],
      "metadata": {
        "colab": {
          "base_uri": "https://localhost:8080/"
        },
        "id": "7oO7yFgavSdH",
        "outputId": "4d224304-f81f-4f9d-af25-e50d8b2bf029"
      },
      "execution_count": null,
      "outputs": [
        {
          "output_type": "stream",
          "name": "stderr",
          "text": [
            "/usr/local/lib/python3.8/dist-packages/torchtext/data/example.py:68: UserWarning: Example class will be retired soon and moved to torchtext.legacy. Please see the most recent release notes for further information.\n",
            "  warnings.warn('Example class will be retired soon and moved to torchtext.legacy. Please see the most recent release notes for further information.', UserWarning)\n",
            "/usr/local/lib/python3.8/dist-packages/torchtext/data/example.py:78: UserWarning: Example class will be retired soon and moved to torchtext.legacy. Please see the most recent release notes for further information.\n",
            "  warnings.warn('Example class will be retired soon and moved to torchtext.legacy. Please see the most recent release notes for further information.', UserWarning)\n"
          ]
        }
      ]
    },
    {
      "cell_type": "code",
      "source": [
        "print(f'Number of training examples: {len(train_data)}')\n",
        "print(f'Number of valid examples: {len(valid_data)}')\n"
      ],
      "metadata": {
        "colab": {
          "base_uri": "https://localhost:8080/"
        },
        "id": "rhf7_J86vlzh",
        "outputId": "5e0b24d0-4a00-4255-b7f9-6d044aa6d7fc"
      },
      "execution_count": null,
      "outputs": [
        {
          "output_type": "stream",
          "name": "stdout",
          "text": [
            "Number of training examples: 39008\n",
            "Number of valid examples: 6000\n"
          ]
        }
      ]
    },
    {
      "cell_type": "code",
      "source": [
        "!wget http://nlp.stanford.edu/data/glove.6B.zip\n",
        "!unzip glove*.zip\n",
        "\n",
        "\n",
        "\n"
      ],
      "metadata": {
        "colab": {
          "base_uri": "https://localhost:8080/"
        },
        "id": "yUv9nyVqvt9D",
        "outputId": "5a8ea0ac-de81-479f-d35e-f2bbebc41162"
      },
      "execution_count": null,
      "outputs": [
        {
          "output_type": "stream",
          "name": "stdout",
          "text": [
            "--2023-01-08 16:16:58--  http://nlp.stanford.edu/data/glove.6B.zip\n",
            "Resolving nlp.stanford.edu (nlp.stanford.edu)... 171.64.67.140\n",
            "Connecting to nlp.stanford.edu (nlp.stanford.edu)|171.64.67.140|:80... connected.\n",
            "HTTP request sent, awaiting response... 302 Found\n",
            "Location: https://nlp.stanford.edu/data/glove.6B.zip [following]\n",
            "--2023-01-08 16:16:58--  https://nlp.stanford.edu/data/glove.6B.zip\n",
            "Connecting to nlp.stanford.edu (nlp.stanford.edu)|171.64.67.140|:443... connected.\n",
            "HTTP request sent, awaiting response... 301 Moved Permanently\n",
            "Location: https://downloads.cs.stanford.edu/nlp/data/glove.6B.zip [following]\n",
            "--2023-01-08 16:16:59--  https://downloads.cs.stanford.edu/nlp/data/glove.6B.zip\n",
            "Resolving downloads.cs.stanford.edu (downloads.cs.stanford.edu)... 171.64.64.22\n",
            "Connecting to downloads.cs.stanford.edu (downloads.cs.stanford.edu)|171.64.64.22|:443... connected.\n",
            "HTTP request sent, awaiting response... 200 OK\n",
            "Length: 862182613 (822M) [application/zip]\n",
            "Saving to: ‘glove.6B.zip’\n",
            "\n",
            "glove.6B.zip        100%[===================>] 822.24M  5.02MB/s    in 2m 39s  \n",
            "\n",
            "2023-01-08 16:19:38 (5.17 MB/s) - ‘glove.6B.zip’ saved [862182613/862182613]\n",
            "\n",
            "Archive:  glove.6B.zip\n",
            "  inflating: glove.6B.50d.txt        \n",
            "  inflating: glove.6B.100d.txt       \n",
            "  inflating: glove.6B.200d.txt       \n",
            "  inflating: glove.6B.300d.txt       \n"
          ]
        }
      ]
    },
    {
      "cell_type": "code",
      "source": [
        "TEXT.build_vocab(train_data, vectors=torchtext.vocab.Vectors(\"glove.6B.50d.txt\"), \n",
        "                 max_size=20000, min_freq=5)\n",
        "LABEL.build_vocab(train_data)\n"
      ],
      "metadata": {
        "id": "zVhQU6S1PixS",
        "colab": {
          "base_uri": "https://localhost:8080/"
        },
        "outputId": "223f7f6d-8b9f-4325-a3fe-f741f6cb8a8c"
      },
      "execution_count": null,
      "outputs": [
        {
          "output_type": "stream",
          "name": "stderr",
          "text": [
            "100%|█████████▉| 399999/400000 [00:09<00:00, 40753.14it/s]\n"
          ]
        }
      ]
    },
    {
      "cell_type": "code",
      "source": [
        "\n",
        "\n",
        "print(f\"Unique tokens in TEXT vocabulary: {len(TEXT.vocab)}\")\n",
        "print(f\"Unique tokens in LABEL vocabulary: {len(LABEL.vocab)}\")\n",
        "\n"
      ],
      "metadata": {
        "colab": {
          "base_uri": "https://localhost:8080/"
        },
        "id": "jgmVMDdwxDcC",
        "outputId": "b264e9fc-dabf-46fa-8e00-f8e298f63a7c"
      },
      "execution_count": null,
      "outputs": [
        {
          "output_type": "stream",
          "name": "stdout",
          "text": [
            "Unique tokens in TEXT vocabulary: 20002\n",
            "Unique tokens in LABEL vocabulary: 2\n"
          ]
        }
      ]
    },
    {
      "cell_type": "code",
      "source": [
        "BATCH_SIZE = 256\n",
        "\n",
        "device = torch.device('cuda' if torch.cuda.is_available() else 'cpu')\n",
        "\n",
        "# keep in mind the sort_key option \n",
        "train_iterator, valid_iterator = data.BucketIterator.splits(\n",
        "    (train_data, valid_data), sort_key=lambda x: len(x.Text),\n",
        "    batch_size=BATCH_SIZE,\n",
        "    device=device)"
      ],
      "metadata": {
        "colab": {
          "base_uri": "https://localhost:8080/"
        },
        "id": "MVCIuVWSxOAm",
        "outputId": "bcf51922-8180-4799-aee9-caa04f1d6604"
      },
      "execution_count": null,
      "outputs": [
        {
          "output_type": "stream",
          "name": "stderr",
          "text": [
            "/usr/local/lib/python3.8/dist-packages/torchtext/data/iterator.py:48: UserWarning: BucketIterator class will be retired soon and moved to torchtext.legacy. Please see the most recent release notes for further information.\n",
            "  warnings.warn('{} class will be retired soon and moved to torchtext.legacy. Please see the most recent release notes for further information.'.format(self.__class__.__name__), UserWarning)\n"
          ]
        }
      ]
    },
    {
      "cell_type": "code",
      "source": [
        "\n",
        "\n",
        "LABEL.vocab.freqs"
      ],
      "metadata": {
        "colab": {
          "base_uri": "https://localhost:8080/"
        },
        "id": "iohdBvGWxV04",
        "outputId": "df4cd049-7f2b-4802-dcb5-ffad540ae26b"
      },
      "execution_count": null,
      "outputs": [
        {
          "output_type": "execute_result",
          "data": {
            "text/plain": [
              "Counter({'0': 19500, '1': 19508})"
            ]
          },
          "metadata": {},
          "execution_count": 21
        }
      ]
    },
    {
      "cell_type": "markdown",
      "source": [
        "#NN"
      ],
      "metadata": {
        "id": "PVMIN7oT05Z1"
      }
    },
    {
      "cell_type": "code",
      "source": [
        "from unicodedata import bidirectional\n",
        "class RNN2(nn.Module):\n",
        "    def __init__(self, cell_type,input_dim, embedding_dim, hidden_dim, output_dim,layers):\n",
        "        super().__init__()\n",
        "         \n",
        "        cells = {\n",
        "        \"RNN\" : nn.RNN,\n",
        "        \"LSTM\"    : nn.LSTM,\n",
        "        \"GRU\"     : nn.GRU\n",
        "    }\n",
        "        self.cell_type = cell_type\n",
        "        self.embedding = nn.Embedding(input_dim, embedding_dim)\n",
        "       \n",
        "        self.rnn = cells[cell_type](         # Pick the specific model\n",
        "            input_size=embedding_dim,           # Number of features for each time step\n",
        "            hidden_size=hidden_dim,         # rnn hidden units\n",
        "            dropout=0.2,    #dropout probability\n",
        "            batch_first=True,\n",
        "            num_layers=layers\n",
        "           \n",
        "        )\n",
        "        self.fc = nn.Linear(hidden_dim, output_dim)\n",
        "        \n",
        "    def forward(self, x):\n",
        "\n",
        "        #x = [sent len, batch size]\n",
        "        \n",
        "        embedded = self.embedding(x)\n",
        "        \n",
        "      \n",
        "        if self.cell_type == 'LSTM':\n",
        "            output, (h_n, h_c) = self.rnn(embedded)\n",
        "            \n",
        "        else:\n",
        "            output,hidden=self.rnn(embedded)\n",
        "       \n",
        " \n",
        "        out = self.fc(output[:, -1, :])\n",
        "        return out\n",
        "    "
      ],
      "metadata": {
        "id": "ti7dUXCzPFTu"
      },
      "execution_count": null,
      "outputs": []
    },
    {
      "cell_type": "code",
      "source": [
        "INPUT_DIM = len(TEXT.vocab)\n",
        "EMBEDDING_DIM = 50\n",
        "HIDDEN_DIM = 64\n",
        "OUTPUT_DIM = 2\n",
        "LAYERS=3\n",
        "\n",
        "model = RNN2(\"GRU\",INPUT_DIM, EMBEDDING_DIM, HIDDEN_DIM, OUTPUT_DIM,LAYERS)"
      ],
      "metadata": {
        "id": "hMZQ5YMl1CiV"
      },
      "execution_count": null,
      "outputs": []
    },
    {
      "cell_type": "code",
      "source": [
        "pretrained_embeddings = TEXT.vocab.vectors\n",
        "\n",
        "print(pretrained_embeddings.shape)"
      ],
      "metadata": {
        "colab": {
          "base_uri": "https://localhost:8080/"
        },
        "id": "CmDnX5md1NlG",
        "outputId": "c26c6c10-7481-4683-cf80-26de6081b88c"
      },
      "execution_count": null,
      "outputs": [
        {
          "output_type": "stream",
          "name": "stdout",
          "text": [
            "torch.Size([20002, 50])\n"
          ]
        }
      ]
    },
    {
      "cell_type": "code",
      "source": [
        "model.embedding.weight.data = pretrained_embeddings.cuda()"
      ],
      "metadata": {
        "id": "TgQxMAug1QkT"
      },
      "execution_count": null,
      "outputs": []
    },
    {
      "cell_type": "code",
      "source": [
        "model"
      ],
      "metadata": {
        "colab": {
          "base_uri": "https://localhost:8080/"
        },
        "id": "SJMur_DBjRK2",
        "outputId": "04d0447c-1ae6-4bc2-d7d8-a3ff25a252a7"
      },
      "execution_count": null,
      "outputs": [
        {
          "output_type": "execute_result",
          "data": {
            "text/plain": [
              "RNN2(\n",
              "  (embedding): Embedding(20002, 50)\n",
              "  (rnn): GRU(50, 64, num_layers=3, batch_first=True, dropout=0.2)\n",
              "  (fc): Linear(in_features=64, out_features=2, bias=True)\n",
              ")"
            ]
          },
          "metadata": {},
          "execution_count": 56
        }
      ]
    },
    {
      "cell_type": "code",
      "source": [
        "class_weights = torch.tensor([1.0, 15.0]).cuda()"
      ],
      "metadata": {
        "id": "iYOcEas82_5N"
      },
      "execution_count": null,
      "outputs": []
    },
    {
      "cell_type": "code",
      "source": [
        "lr=0.001\n",
        "optimizer = optim.Adam(model.parameters(), lr=lr)\n",
        "criterion = nn.CrossEntropyLoss(weight=class_weights)\n",
        "\n",
        "\n",
        "model = model.to(device)\n",
        "criterion = criterion.to(device)\n",
        "\n"
      ],
      "metadata": {
        "id": "mvspTmcV3FX4"
      },
      "execution_count": null,
      "outputs": []
    },
    {
      "cell_type": "code",
      "source": [
        "def binary_accuracy(preds, y):\n",
        "  \n",
        "    preds, ind= torch.max(F.softmax(preds, dim=-1), 1)\n",
        "    \n",
        "    correct = (ind == y).float()\n",
        "    acc = correct.sum()/float(len(correct))\n",
        "    return acc,ind,y"
      ],
      "metadata": {
        "id": "cxPzOTWn3veP"
      },
      "execution_count": null,
      "outputs": []
    },
    {
      "cell_type": "code",
      "source": [
        "#!pip install pyprind\n",
        "import pyprind\n",
        "\n",
        "def train(model, iterator, optimizer, criterion):\n",
        "    \n",
        "    epoch_loss = 0\n",
        "    epoch_acc = 0\n",
        "    \n",
        "    model.train()\n",
        "    bar = pyprind.ProgBar(len(iterator), bar_char='█')\n",
        "    for batch in iterator:\n",
        "        \n",
        "        optimizer.zero_grad()\n",
        "                \n",
        "        predictions = model(batch.Text).squeeze(0)\n",
        "\n",
        "        loss = criterion(predictions, batch.Label)\n",
        "\n",
        "        acc,ytrue,ypred = binary_accuracy(predictions, batch.Label)\n",
        "        \n",
        "        loss.backward()\n",
        "        #gradient clipping\n",
        "        torch.nn.utils.clip_grad_norm(parameters=model.parameters(), max_norm=10, norm_type=2.0)\n",
        "        optimizer.step()\n",
        "        \n",
        "        epoch_loss += loss.item()\n",
        "        epoch_acc += acc.item()\n",
        "        bar.update()\n",
        "    return epoch_loss / len(iterator), epoch_acc / len(iterator)\n",
        "\n"
      ],
      "metadata": {
        "id": "0XRv9XsE32tl"
      },
      "execution_count": null,
      "outputs": []
    },
    {
      "cell_type": "code",
      "source": [
        "def evaluate(model, iterator, criterion):\n",
        "    \n",
        "    epoch_loss = 0\n",
        "    epoch_acc = 0\n",
        "    \n",
        "    model.eval()\n",
        "    ytrues=[]\n",
        "    ypreds=[]\n",
        "\n",
        "    with torch.no_grad():\n",
        "        bar = pyprind.ProgBar(len(iterator), bar_char='█')\n",
        "        for batch in iterator:\n",
        "\n",
        "            predictions = model(batch.Text).squeeze(0)\n",
        "            \n",
        "            loss = criterion(predictions, batch.Label)\n",
        "            \n",
        "            acc,ytrue,ypred = binary_accuracy(predictions, batch.Label)\n",
        "            ytrues+=ytrue\n",
        "            ypreds+=ypred\n",
        "            epoch_loss += loss.item()\n",
        "            epoch_acc += acc.item()\n",
        "            bar.update()\n",
        "    return epoch_loss / len(iterator), epoch_acc / len(iterator),ytrues,ypreds"
      ],
      "metadata": {
        "id": "ESoZS9ig4Fys"
      },
      "execution_count": null,
      "outputs": []
    },
    {
      "cell_type": "markdown",
      "source": [
        "#train"
      ],
      "metadata": {
        "id": "8hVV1JYT4JIB"
      }
    },
    {
      "cell_type": "code",
      "source": [
        "N_EPOCHS = 10\n",
        "epochs=[]\n",
        "train_losses=[]\n",
        "train_accuracies=[]\n",
        "valid_losses=[]\n",
        "valid_accuracies=[]\n",
        "\n",
        "for epoch in range(N_EPOCHS):\n",
        "\n",
        "    train_loss, train_acc = train(model, train_iterator, optimizer, criterion)\n",
        "    valid_loss, valid_acc,yrues,ypreds = evaluate(model, valid_iterator, criterion)\n",
        "    epochs.append(epoch)\n",
        "    train_losses.append(train_loss)\n",
        "    train_accuracies.append(train_acc)\n",
        "    valid_losses.append(valid_loss)\n",
        "    valid_accuracies.append(valid_acc)\n",
        "    \n",
        "    print(f'| Epoch: {epoch+1:02} | Train Loss: {train_loss:.3f} | Train Acc: {train_acc*100:.2f}% | Val. Loss: {valid_loss:.3f} | Val. Acc: {valid_acc*100:.2f}% |')"
      ],
      "metadata": {
        "colab": {
          "base_uri": "https://localhost:8080/"
        },
        "id": "pSD570FR4PdR",
        "outputId": "86328526-4d82-4ca1-e80e-bf1a153e7f08"
      },
      "execution_count": null,
      "outputs": [
        {
          "output_type": "stream",
          "name": "stderr",
          "text": [
            "/usr/local/lib/python3.8/dist-packages/torchtext/data/batch.py:23: UserWarning: Batch class will be retired soon and moved to torchtext.legacy. Please see the most recent release notes for further information.\n",
            "  warnings.warn('{} class will be retired soon and moved to torchtext.legacy. Please see the most recent release notes for further information.'.format(self.__class__.__name__), UserWarning)\n",
            "<ipython-input-60-0038e86c81fa>:23: UserWarning: torch.nn.utils.clip_grad_norm is now deprecated in favor of torch.nn.utils.clip_grad_norm_.\n",
            "  torch.nn.utils.clip_grad_norm(parameters=model.parameters(), max_norm=10, norm_type=2.0)\n",
            "0% [██████████████████████████████] 100% | ETA: 00:00:00\n",
            "Total time elapsed: 00:00:40\n",
            "0% [████████████████████████] 100% | ETA: 00:00:00"
          ]
        },
        {
          "output_type": "stream",
          "name": "stdout",
          "text": [
            "| Epoch: 01 | Train Loss: 0.256 | Train Acc: 49.99% | Val. Loss: 0.236 | Val. Acc: 50.00% |\n"
          ]
        },
        {
          "output_type": "stream",
          "name": "stderr",
          "text": [
            "\n",
            "Total time elapsed: 00:00:00\n",
            "0% [██████████████████████████████] 100% | ETA: 00:00:00\n",
            "Total time elapsed: 00:00:40\n",
            "0% [████████████████████████] 100% | ETA: 00:00:00"
          ]
        },
        {
          "output_type": "stream",
          "name": "stdout",
          "text": [
            "| Epoch: 02 | Train Loss: 0.235 | Train Acc: 49.99% | Val. Loss: 0.237 | Val. Acc: 50.00% |\n"
          ]
        },
        {
          "output_type": "stream",
          "name": "stderr",
          "text": [
            "\n",
            "Total time elapsed: 00:00:00\n",
            "0% [██████████████████████████████] 100% | ETA: 00:00:00\n",
            "Total time elapsed: 00:00:40\n",
            "0% [████████████████████████] 100% | ETA: 00:00:00"
          ]
        },
        {
          "output_type": "stream",
          "name": "stdout",
          "text": [
            "| Epoch: 03 | Train Loss: 0.236 | Train Acc: 49.96% | Val. Loss: 0.236 | Val. Acc: 50.00% |\n"
          ]
        },
        {
          "output_type": "stream",
          "name": "stderr",
          "text": [
            "\n",
            "Total time elapsed: 00:00:00\n",
            "0% [██████████████████████████████] 100% | ETA: 00:00:00\n",
            "Total time elapsed: 00:00:40\n",
            "0% [████████████████████████] 100% | ETA: 00:00:00"
          ]
        },
        {
          "output_type": "stream",
          "name": "stdout",
          "text": [
            "| Epoch: 04 | Train Loss: 0.236 | Train Acc: 49.94% | Val. Loss: 0.234 | Val. Acc: 50.00% |\n"
          ]
        },
        {
          "output_type": "stream",
          "name": "stderr",
          "text": [
            "\n",
            "Total time elapsed: 00:00:00\n",
            "0% [██████████████████████████████] 100% | ETA: 00:00:00\n",
            "Total time elapsed: 00:00:40\n",
            "0% [████████████████████████] 100% | ETA: 00:00:00"
          ]
        },
        {
          "output_type": "stream",
          "name": "stdout",
          "text": [
            "| Epoch: 05 | Train Loss: 0.235 | Train Acc: 50.02% | Val. Loss: 0.232 | Val. Acc: 50.00% |\n"
          ]
        },
        {
          "output_type": "stream",
          "name": "stderr",
          "text": [
            "\n",
            "Total time elapsed: 00:00:01\n",
            "0% [██████████████████████████████] 100% | ETA: 00:00:00\n",
            "Total time elapsed: 00:00:40\n",
            "0% [████████████████████████] 100% | ETA: 00:00:00"
          ]
        },
        {
          "output_type": "stream",
          "name": "stdout",
          "text": [
            "| Epoch: 06 | Train Loss: 0.230 | Train Acc: 49.96% | Val. Loss: 0.276 | Val. Acc: 66.44% |\n"
          ]
        },
        {
          "output_type": "stream",
          "name": "stderr",
          "text": [
            "\n",
            "Total time elapsed: 00:00:00\n",
            "0% [██████████████████████████████] 100% | ETA: 00:00:00\n",
            "Total time elapsed: 00:00:40\n",
            "0% [████████████████████████] 100% | ETA: 00:00:00"
          ]
        },
        {
          "output_type": "stream",
          "name": "stdout",
          "text": [
            "| Epoch: 07 | Train Loss: 0.131 | Train Acc: 70.91% | Val. Loss: 0.129 | Val. Acc: 87.51% |\n"
          ]
        },
        {
          "output_type": "stream",
          "name": "stderr",
          "text": [
            "\n",
            "Total time elapsed: 00:00:00\n",
            "0% [██████████████████████████████] 100% | ETA: 00:00:00\n",
            "Total time elapsed: 00:00:40\n",
            "0% [████████████████████████] 100% | ETA: 00:00:00"
          ]
        },
        {
          "output_type": "stream",
          "name": "stdout",
          "text": [
            "| Epoch: 08 | Train Loss: 0.083 | Train Acc: 85.05% | Val. Loss: 0.094 | Val. Acc: 85.59% |\n"
          ]
        },
        {
          "output_type": "stream",
          "name": "stderr",
          "text": [
            "\n",
            "Total time elapsed: 00:00:00\n",
            "0% [██████████████████████████████] 100% | ETA: 00:00:00\n",
            "Total time elapsed: 00:00:40\n",
            "0% [████████████████████████] 100% | ETA: 00:00:00"
          ]
        },
        {
          "output_type": "stream",
          "name": "stdout",
          "text": [
            "| Epoch: 09 | Train Loss: 0.057 | Train Acc: 90.57% | Val. Loss: 0.128 | Val. Acc: 89.66% |\n"
          ]
        },
        {
          "output_type": "stream",
          "name": "stderr",
          "text": [
            "\n",
            "Total time elapsed: 00:00:00\n",
            "0% [██████████████████████████████] 100% | ETA: 00:00:00\n",
            "Total time elapsed: 00:00:41\n",
            "0% [████████████████████████] 100% | ETA: 00:00:00"
          ]
        },
        {
          "output_type": "stream",
          "name": "stdout",
          "text": [
            "| Epoch: 10 | Train Loss: 0.043 | Train Acc: 93.24% | Val. Loss: 0.158 | Val. Acc: 90.03% |\n"
          ]
        },
        {
          "output_type": "stream",
          "name": "stderr",
          "text": [
            "\n",
            "Total time elapsed: 00:00:00\n"
          ]
        }
      ]
    },
    {
      "cell_type": "markdown",
      "source": [
        "#Learning curves"
      ],
      "metadata": {
        "id": "739g8OCnyMai"
      }
    },
    {
      "cell_type": "code",
      "source": [
        "import matplotlib.pyplot as plt\n",
        "plt.plot(epochs,train_accuracies)\n",
        "plt.plot(epochs,valid_accuracies)\n",
        "\n",
        "plt.xlabel(\"epochs\")\n",
        "plt.ylabel(\"Accuracy\")\n",
        "#plt.ylim(ymin=0)\n",
        "plt.legend([\"Training\", \"Validation\"])\n",
        "plt.show()"
      ],
      "metadata": {
        "colab": {
          "base_uri": "https://localhost:8080/",
          "height": 279
        },
        "id": "SIMgYAFvy1p-",
        "outputId": "115c6ab5-cb38-43b0-9991-f73d383ae75f"
      },
      "execution_count": null,
      "outputs": [
        {
          "output_type": "display_data",
          "data": {
            "text/plain": [
              "<Figure size 432x288 with 1 Axes>"
            ],
            "image/png": "[encoded data removed]"
          },
          "metadata": {
            "needs_background": "light"
          }
        }
      ]
    },
    {
      "cell_type": "code",
      "source": [
        "y_trues=[]\n",
        "y_preds=[]\n",
        "for i in range(len(yrues)):\n",
        "  y_trues.append(yrues[i].cpu().detach().numpy())\n",
        "  y_preds.append(ypreds[i].cpu().detach().numpy())\n",
        "print(y_trues)\n",
        "print(y_preds)"
      ],
      "metadata": {
        "colab": {
          "base_uri": "https://localhost:8080/"
        },
        "id": "VloaUc0_yrnW",
        "outputId": "a4f5516f-83c8-4025-85c1-cd0cab42d979"
      },
      "execution_count": null,
      "outputs": [
        {
          "output_type": "stream",
          "name": "stdout",
          "text": [
            "[array(1), array(1), array(1), array(1), array(0), array(0), array(0), array(0), array(1), array(0), array(1), array(1), array(1), array(1), array(0), array(1), array(1), array(0), array(1), array(0), array(0), array(1), array(1), array(1), array(0), array(1), array(0), array(0), array(1), array(1), array(1), array(1), array(0), array(0), array(0), array(1), array(0), array(1), array(1), array(1), array(1), array(1), array(1), array(1), array(1), array(0), array(0), array(0), array(0), array(1), array(0), array(1), array(0), array(0), array(1), array(0), array(0), array(0), array(0), array(0), array(0), array(1), array(0), array(0), array(0), array(0), array(1), array(1), array(0), array(1), array(1), array(1), array(1), array(1), array(0), array(0), array(0), array(0), array(1), array(1), array(1), array(1), array(1), array(0), array(1), array(0), array(0), array(1), array(1), array(0), array(0), array(0), array(1), array(1), array(1), array(1), array(1), array(1), array(0), array(0), array(0), array(0), array(0), array(1), array(0), array(0), array(1), array(1), array(1), array(0), array(1), array(0), array(0), array(0), array(0), array(0), array(1), array(1), array(0), array(0), array(0), array(1), array(1), array(0), array(1), array(0), array(1), array(1), array(1), array(1), array(1), array(1), array(1), array(0), array(0), array(0), array(1), array(0), array(1), array(1), array(1), array(1), array(0), array(1), array(1), array(0), array(0), array(1), array(1), array(1), array(1), array(0), array(1), array(1), array(0), array(0), array(0), array(0), array(1), array(1), array(1), array(1), array(0), array(0), array(1), array(1), array(1), array(1), array(0), array(1), array(0), array(1), array(1), array(1), array(0), array(0), array(0), array(0), array(1), array(0), array(0), array(0), array(0), array(0), array(0), array(1), array(1), array(0), array(0), array(0), array(0), array(0), array(0), array(1), array(0), array(0), array(0), array(0), array(1), array(0), array(0), array(0), array(1), array(1), array(1), array(1), array(1), array(1), array(0), array(1), array(1), array(1), array(1), array(0), array(0), array(0), array(1), array(0), array(1), array(0), array(1), array(1), array(1), array(0), array(1), array(1), array(1), array(1), array(1), array(1), array(1), array(0), array(1), array(1), array(1), array(1), array(0), array(1), array(0), array(1), array(1), array(1), array(1), array(0), array(0), array(1), array(0), array(0), array(0), array(1), array(1), array(0), array(0), array(0), array(1), array(1), array(0), array(1), array(1), array(1), array(1), array(1), array(0), array(0), array(0), array(0), array(1), array(1), array(1), array(1), array(0), array(1), array(1), array(1), array(1), array(1), array(1), array(1), array(0), array(1), array(0), array(1), array(1), array(0), array(0), array(0), array(0), array(1), array(1), array(1), array(1), array(1), array(1), array(0), array(0), array(0), array(0), array(1), array(0), array(0), array(0), array(0), array(1), array(1), array(1), array(1), array(1), array(0), array(0), array(0), array(0), array(0), array(1), array(1), array(1), array(0), array(0), array(0), array(0), array(0), array(1), array(1), array(1), array(1), array(0), array(0), array(1), array(1), array(1), array(1), array(1), array(1), array(0), array(0), array(0), array(0), array(0), array(1), array(1), array(1), array(1), array(1), array(1), array(1), array(1), array(0), array(0), array(0), array(1), array(0), array(1), array(0), array(1), array(1), array(1), array(1), array(0), array(0), array(0), array(1), array(1), array(0), array(0), array(0), array(0), array(0), array(1), array(1), array(1), array(1), array(1), array(1), array(1), array(0), array(0), array(0), array(0), array(0), array(0), array(1), array(0), array(1), array(1), array(1), array(1), array(0), array(0), array(0), array(0), array(0), array(0), array(0), array(0), array(0), array(0), array(1), array(0), array(1), array(1), array(1), array(1), array(1), array(0), array(0), array(0), array(0), array(0), array(0), array(1), array(1), array(1), array(0), array(1), array(0), array(0), array(1), array(1), array(1), array(1), array(1), array(0), array(0), array(0), array(0), array(0), array(0), array(0), array(0), array(1), array(0), array(1), array(1), array(1), array(1), array(1), array(0), array(0), array(0), array(1), array(1), array(0), array(0), array(0), array(1), array(1), array(1), array(1), array(0), array(1), array(1), array(1), array(1), array(0), array(0), array(1), array(1), array(1), array(1), array(0), array(0), array(0), array(0), array(1), array(0), array(0), array(1), array(1), array(1), array(0), array(0), array(0), array(1), array(0), array(0), array(1), array(1), array(1), array(1), array(1), array(1), array(1), array(1), array(0), array(0), array(0), array(1), array(1), array(1), array(1), array(1), array(1), array(0), array(0), array(0), array(0), array(1), array(0), array(1), array(1), array(1), array(1), array(1), array(0), array(0), array(0), array(0), array(0), array(0), array(0), array(0), array(1), array(1), array(1), array(0), array(0), array(0), array(0), array(0), array(0), array(0), array(0), array(1), array(0), array(1), array(1), array(1), array(1), array(1), array(0), array(1), array(1), array(1), array(1), array(1), array(0), array(0), array(0), array(1), array(0), array(0), array(1), array(1), array(1), array(1), array(1), array(1), array(1), array(1), array(1), array(0), array(0), array(0), array(0), array(1), array(0), array(1), array(1), array(1), array(1), array(1), array(1), array(0), array(0), array(1), array(0), array(0), array(0), array(0), array(0), array(1), array(1), array(1), array(1), array(1), array(1), array(0), array(0), array(0), array(0), array(0), array(0), array(0), array(1), array(0), array(1), array(1), array(1), array(1), array(1), array(1), array(0), array(1), array(1), array(0), array(0), array(1), array(1), array(1), array(1), array(0), array(1), array(0), array(0), array(0), array(0), array(0), array(1), array(1), array(1), array(0), array(0), array(0), array(0), array(0), array(1), array(1), array(0), array(1), array(1), array(1), array(1), array(1), array(1), array(0), array(0), array(0), array(0), array(0), array(0), array(0), array(1), array(1), array(1), array(1), array(1), array(1), array(1), array(1), array(1), array(1), array(0), array(0), array(0), array(1), array(1), array(1), array(1), array(1), array(0), array(0), array(0), array(1), array(1), array(1), array(1), array(1), array(1), array(0), array(0), array(0), array(1), array(1), array(1), array(1), array(1), array(1), array(0), array(0), array(0), array(0), array(0), array(1), array(1), array(1), array(1), array(1), array(1), array(1), array(1), array(1), array(0), array(0), array(1), array(0), array(0), array(0), array(1), array(0), array(0), array(0), array(1), array(0), array(0), array(0), array(1), array(1), array(1), array(0), array(1), array(1), array(1), array(1), array(1), array(1), array(1), array(0), array(1), array(1), array(1), array(1), array(0), array(1), array(1), array(0), array(0), array(0), array(0), array(0), array(0), array(0), array(1), array(1), array(1), array(1), array(1), array(1), array(1), array(0), array(0), array(0), array(1), array(1), array(1), array(0), array(1), array(1), array(1), array(1), array(1), array(1), array(1), array(1), array(1), array(0), array(0), array(0), array(1), array(1), array(1), array(1), array(1), array(1), array(0), array(0), array(1), array(0), array(0), array(0), array(1), array(1), array(1), array(1), array(0), array(0), array(1), array(0), array(1), array(0), array(1), array(0), array(1), array(0), array(1), array(1), array(1), array(1), array(0), array(0), array(0), array(0), array(0), array(0), array(0), array(0), array(0), array(0), array(0), array(0), array(1), array(1), array(1), array(1), array(1), array(1), array(1), array(1), array(1), array(1), array(1), array(1), array(1), array(1), array(0), array(0), array(0), array(0), array(0), array(1), array(0), array(0), array(0), array(1), array(1), array(1), array(1), array(1), array(1), array(1), array(1), array(1), array(1), array(1), array(0), array(0), array(0), array(0), array(0), array(1), array(0), array(1), array(1), array(0), array(0), array(1), array(0), array(1), array(1), array(1), array(1), array(1), array(1), array(1), array(1), array(1), array(1), array(1), array(0), array(1), array(0), array(0), array(0), array(0), array(0), array(0), array(0), array(0), array(0), array(0), array(1), array(1), array(1), array(1), array(1), array(0), array(0), array(0), array(0), array(0), array(0), array(0), array(1), array(0), array(0), array(1), array(1), array(1), array(1), array(1), array(1), array(1), array(1), array(1), array(0), array(0), array(0), array(1), array(0), array(0), array(0), array(1), array(1), array(1), array(1), array(1), array(1), array(1), array(1), array(1), array(1), array(1), array(0), array(0), array(0), array(0), array(0), array(0), array(0), array(0), array(1), array(0), array(1), array(1), array(1), array(1), array(1), array(1), array(1), array(1), array(1), array(1), array(1), array(1), array(1), array(1), array(0), array(0), array(0), array(0), array(0), array(0), array(1), array(1), array(1), array(1), array(0), array(1), array(1), array(0), array(1), array(1), array(1), array(1), array(0), array(0), array(0), array(0), array(0), array(0), array(1), array(1), array(0), array(1), array(1), array(1), array(1), array(1), array(1), array(0), array(0), array(0), array(1), array(0), array(0), array(0), array(0), array(0), array(0), array(0), array(0), array(0), array(0), array(0), array(0), array(1), array(1), array(1), array(1), array(1), array(0), array(0), array(0), array(0), array(0), array(0), array(0), array(0), array(0), array(0), array(1), array(1), array(1), array(0), array(1), array(1), array(1), array(0), array(0), array(1), array(0), array(0), array(0), array(1), array(0), array(1), array(1), array(1), array(1), array(1), array(1), array(0), array(0), array(0), array(1), array(0), array(0), array(1), array(1), array(1), array(1), array(1), array(1), array(1), array(1), array(0), array(1), array(1), array(1), array(1), array(1), array(1), array(1), array(1), array(1), array(1), array(0), array(1), array(1), array(0), array(0), array(0), array(0), array(0), array(1), array(0), array(0), array(0), array(0), array(0), array(0), array(0), array(0), array(0), array(0), array(1), array(1), array(1), array(1), array(1), array(1), array(1), array(1), array(1), array(1), array(1), array(1), array(0), array(0), array(0), array(1), array(0), array(0), array(0), array(0), array(0), array(0), array(0), array(0), array(1), array(0), array(0), array(0), array(0), array(1), array(1), array(1), array(1), array(1), array(1), array(0), array(1), array(1), array(1), array(1), array(1), array(1), array(0), array(0), array(0), array(0), array(0), array(0), array(0), array(0), array(1), array(1), array(0), array(0), array(1), array(1), array(0), array(0), array(0), array(0), array(0), array(1), array(1), array(1), array(1), array(1), array(1), array(1), array(1), array(1), array(1), array(1), array(1), array(1), array(1), array(1), array(1), array(1), array(1), array(1), array(1), array(1), array(1), array(0), array(1), array(0), array(0), array(0), array(0), array(0), array(1), array(0), array(0), array(0), array(0), array(0), array(0), array(1), array(0), array(0), array(0), array(1), array(0), array(1), array(0), array(1), array(1), array(1), array(1), array(1), array(1), array(1), array(1), array(1), array(1), array(1), array(1), array(1), array(1), array(1), array(1), array(1), array(1), array(1), array(1), array(1), array(1), array(0), array(1), array(0), array(0), array(0), array(0), array(0), array(0), array(0), array(0), array(0), array(0), array(1), array(1), array(1), array(1), array(1), array(1), array(1), array(1), array(1), array(1), array(1), array(1), array(1), array(0), array(0), array(1), array(0), array(0), array(1), array(0), array(0), array(0), array(0), array(0), array(0), array(0), array(1), array(1), array(1), array(1), array(1), array(1), array(1), array(1), array(1), array(0), array(1), array(1), array(1), array(1), array(0), array(0), array(0), array(0), array(1), array(0), array(1), array(0), array(0), array(1), array(1), array(0), array(1), array(1), array(1), array(1), array(1), array(1), array(1), array(1), array(1), array(1), array(1), array(1), array(1), array(1), array(1), array(0), array(1), array(0), array(1), array(0), array(1), array(0), array(0), array(0), array(0), array(0), array(0), array(1), array(1), array(1), array(1), array(1), array(1), array(1), array(1), array(1), array(1), array(1), array(1), array(1), array(1), array(1), array(1), array(1), array(1), array(1), array(1), array(1), array(0), array(0), array(0), array(0), array(1), array(1), array(0), array(0), array(0), array(1), array(0), array(1), array(0), array(0), array(0), array(1), array(1), array(1), array(1), array(1), array(1), array(1), array(1), array(1), array(0), array(1), array(1), array(1), array(0), array(0), array(0), array(0), array(0), array(0), array(0), array(0), array(0), array(0), array(0), array(1), array(0), array(1), array(0), array(1), array(1), array(1), array(1), array(1), array(1), array(1), array(1), array(1), array(1), array(1), array(1), array(1), array(1), array(1), array(1), array(0), array(0), array(0), array(0), array(0), array(0), array(1), array(0), array(0), array(0), array(0), array(1), array(0), array(0), array(0), array(0), array(0), array(1), array(1), array(1), array(1), array(1), array(1), array(1), array(1), array(1), array(1), array(1), array(1), array(1), array(1), array(1), array(1), array(1), array(1), array(1), array(1), array(1), array(1), array(1), array(1), array(0), array(0), array(0), array(0), array(0), array(0), array(0), array(0), array(0), array(0), array(0), array(0), array(1), array(0), array(0), array(0), array(0), array(0), array(0), array(0), array(0), array(0), array(0), array(0), array(0), array(0), array(1), array(1), array(0), array(1), array(1), array(1), array(1), array(1), array(1), array(1), array(1), array(1), array(1), array(1), array(1), array(1), array(0), array(0), array(0), array(0), array(0), array(0), array(1), array(1), array(0), array(0), array(0), array(0), array(1), array(1), array(1), array(1), array(0), array(0), array(1), array(1), array(1), array(1), array(1), array(1), array(1), array(1), array(1), array(1), array(1), array(1), array(1), array(1), array(0), array(0), array(1), array(0), array(0), array(0), array(0), array(0), array(0), array(0), array(0), array(0), array(1), array(0), array(0), array(0), array(0), array(1), array(1), array(1), array(1), array(1), array(1), array(1), array(1), array(1), array(1), array(1), array(1), array(1), array(1), array(1), array(0), array(1), array(1), array(1), array(0), array(0), array(0), array(0), array(0), array(0), array(0), array(0), array(0), array(0), array(0), array(0), array(0), array(0), array(0), array(1), array(0), array(0), array(0), array(0), array(1), array(0), array(1), array(1), array(1), array(0), array(1), array(1), array(1), array(1), array(1), array(1), array(1), array(1), array(1), array(1), array(1), array(1), array(1), array(1), array(1), array(1), array(1), array(1), array(1), array(0), array(0), array(0), array(0), array(0), array(0), array(0), array(1), array(0), array(0), array(0), array(1), array(1), array(1), array(1), array(1), array(1), array(1), array(1), array(1), array(1), array(1), array(1), array(1), array(1), array(1), array(1), array(1), array(1), array(0), array(1), array(1), array(1), array(1), array(1), array(0), array(1), array(0), array(0), array(0), array(0), array(0), array(0), array(0), array(0), array(0), array(0), array(1), array(1), array(1), array(1), array(1), array(1), array(1), array(1), array(1), array(1), array(1), array(1), array(1), array(1), array(1), array(1), array(1), array(1), array(1), array(0), array(0), array(1), array(0), array(0), array(1), array(0), array(0), array(0), array(0), array(0), array(1), array(0), array(0), array(0), array(0), array(0), array(1), array(1), array(1), array(1), array(1), array(1), array(1), array(1), array(1), array(1), array(1), array(1), array(1), array(1), array(1), array(1), array(1), array(1), array(1), array(1), array(0), array(0), array(0), array(0), array(0), array(0), array(0), array(0), array(0), array(0), array(0), array(0), array(1), array(0), array(1), array(0), array(0), array(1), array(0), array(0), array(0), array(0), array(1), array(0), array(1), array(1), array(1), array(1), array(1), array(1), array(1), array(1), array(0), array(1), array(1), array(1), array(1), array(1), array(1), array(1), array(1), array(1), array(1), array(1), array(1), array(1), array(0), array(0), array(0), array(0), array(0), array(0), array(1), array(1), array(0), array(0), array(0), array(0), array(1), array(0), array(1), array(0), array(0), array(0), array(1), array(1), array(1), array(1), array(1), array(1), array(1), array(1), array(1), array(1), array(1), array(1), array(1), array(1), array(1), array(1), array(1), array(0), array(0), array(0), array(0), array(0), array(1), array(0), array(0), array(0), array(0), array(0), array(0), array(1), array(0), array(0), array(0), array(0), array(0), array(0), array(0), array(1), array(1), array(1), array(1), array(1), array(1), array(1), array(1), array(1), array(1), array(1), array(1), array(0), array(1), array(1), array(1), array(1), array(1), array(1), array(1), array(1), array(1), array(1), array(1), array(1), array(1), array(1), array(0), array(0), array(0), array(0), array(0), array(0), array(1), array(0), array(0), array(1), array(1), array(1), array(1), array(1), array(0), array(0), array(0), array(1), array(0), array(0), array(1), array(0), array(0), array(1), array(0), array(0), array(0), array(0), array(0), array(0), array(1), array(1), array(1), array(1), array(1), array(0), array(1), array(1), array(1), array(1), array(1), array(1), array(1), array(1), array(1), array(0), array(0), array(0), array(0), array(0), array(0), array(0), array(0), array(0), array(0), array(0), array(0), array(0), array(0), array(0), array(1), array(1), array(1), array(1), array(1), array(1), array(1), array(1), array(1), array(1), array(0), array(1), array(1), array(1), array(1), array(1), array(1), array(1), array(0), array(0), array(0), array(0), array(0), array(0), array(0), array(0), array(0), array(0), array(1), array(0), array(1), array(1), array(1), array(1), array(1), array(1), array(1), array(1), array(0), array(1), array(1), array(0), array(1), array(1), array(1), array(1), array(1), array(0), array(1), array(0), array(1), array(1), array(1), array(0), array(0), array(0), array(0), array(1), array(0), array(0), array(1), array(1), array(1), array(1), array(1), array(1), array(1), array(1), array(1), array(1), array(1), array(1), array(1), array(1), array(1), array(1), array(1), array(1), array(1), array(0), array(0), array(0), array(0), array(0), array(1), array(1), array(0), array(0), array(0), array(0), array(0), array(1), array(1), array(1), array(1), array(1), array(1), array(0), array(1), array(1), array(1), array(1), array(1), array(1), array(1), array(1), array(1), array(1), array(1), array(1), array(1), array(1), array(0), array(0), array(0), array(0), array(0), array(0), array(0), array(0), array(1), array(0), array(0), array(1), array(1), array(1), array(1), array(1), array(1), array(0), array(1), array(1), array(1), array(1), array(1), array(1), array(1), array(1), array(1), array(1), array(1), array(1), array(1), array(0), array(0), array(0), array(0), array(0), array(0), array(0), array(0), array(0), array(0), array(1), array(1), array(1), array(0), array(0), array(0), array(1), array(0), array(0), array(1), array(0), array(0), array(1), array(1), array(1), array(0), array(1), array(1), array(1), array(1), array(1), array(1), array(1), array(1), array(1), array(1), array(1), array(1), array(1), array(1), array(1), array(0), array(0), array(0), array(1), array(0), array(0), array(0), array(0), array(0), array(1), array(1), array(0), array(0), array(0), array(1), array(0), array(0), array(1), array(0), array(1), array(1), array(1), array(1), array(1), array(1), array(1), array(0), array(1), array(1), array(1), array(1), array(1), array(1), array(0), array(1), array(1), array(1), array(0), array(0), array(0), array(0), array(0), array(0), array(0), array(0), array(1), array(1), array(1), array(0), array(1), array(1), array(1), array(1), array(1), array(1), array(1), array(0), array(1), array(0), array(1), array(0), array(1), array(0), array(0), array(0), array(0), array(1), array(0), array(0), array(1), array(0), array(0), array(1), array(0), array(1), array(1), array(1), array(1), array(1), array(1), array(1), array(1), array(0), array(1), array(1), array(1), array(0), array(0), array(0), array(1), array(0), array(0), array(1), array(0), array(0), array(0), array(1), array(0), array(0), array(0), array(0), array(0), array(0), array(1), array(1), array(1), array(1), array(1), array(1), array(1), array(1), array(1), array(1), array(1), array(1), array(1), array(0), array(0), array(0), array(0), array(0), array(0), array(0), array(0), array(0), array(1), array(1), array(1), array(1), array(1), array(1), array(1), array(1), array(1), array(1), array(1), array(1), array(1), array(1), array(1), array(1), array(1), array(1), array(0), array(0), array(0), array(0), array(0), array(0), array(0), array(0), array(0), array(1), array(1), array(1), array(1), array(1), array(1), array(1), array(1), array(1), array(1), array(1), array(1), array(1), array(1), array(0), array(0), array(0), array(0), array(0), array(0), array(0), array(0), array(0), array(0), array(0), array(0), array(0), array(1), array(0), array(0), array(0), array(0), array(1), array(1), array(1), array(1), array(1), array(1), array(1), array(1), array(1), array(1), array(0), array(1), array(1), array(1), array(1), array(1), array(1), array(1), array(1), array(0), array(0), array(0), array(1), array(1), array(0), array(0), array(0), array(1), array(0), array(0), array(0), array(0), array(1), array(0), array(0), array(1), array(0), array(1), array(1), array(1), array(1), array(1), array(1), array(1), array(1), array(1), array(1), array(0), array(0), array(0), array(1), array(0), array(0), array(1), array(0), array(1), array(0), array(0), array(0), array(1), array(0), array(1), array(1), array(1), array(1), array(1), array(0), array(1), array(1), array(1), array(1), array(1), array(1), array(1), array(0), array(0), array(0), array(0), array(0), array(0), array(0), array(0), array(0), array(0), array(0), array(1), array(0), array(0), array(1), array(1), array(0), array(1), array(1), array(1), array(0), array(1), array(1), array(1), array(1), array(1), array(1), array(0), array(1), array(1), array(1), array(1), array(1), array(0), array(1), array(1), array(0), array(0), array(0), array(0), array(0), array(0), array(0), array(0), array(1), array(1), array(1), array(1), array(1), array(1), array(1), array(1), array(1), array(1), array(1), array(1), array(1), array(1), array(1), array(1), array(0), array(1), array(0), array(0), array(0), array(0), array(0), array(1), array(0), array(0), array(1), array(1), array(1), array(1), array(0), array(1), array(1), array(1), array(1), array(0), array(0), array(0), array(0), array(0), array(0), array(1), array(0), array(0), array(0), array(0), array(1), array(1), array(1), array(1), array(1), array(0), array(1), array(0), array(1), array(0), array(1), array(0), array(0), array(0), array(0), array(1), array(1), array(1), array(1), array(1), array(1), array(0), array(0), array(0), array(0), array(0), array(0), array(0), array(0), array(0), array(1), array(1), array(1), array(1), array(1), array(1), array(1), array(0), array(0), array(0), array(0), array(0), array(1), array(0), array(0), array(1), array(0), array(0), array(0), array(1), array(1), array(1), array(1), array(1), array(1), array(1), array(1), array(1), array(1), array(1), array(1), array(1), array(0), array(1), array(0), array(0), array(0), array(0), array(0), array(0), array(1), array(0), array(0), array(0), array(0), array(0), array(0), array(1), array(0), array(1), array(1), array(1), array(1), array(0), array(1), array(1), array(1), array(1), array(1), array(1), array(1), array(0), array(0), array(0), array(0), array(0), array(0), array(1), array(0), array(0), array(1), array(1), array(1), array(1), array(1), array(1), array(1), array(0), array(0), array(0), array(0), array(1), array(1), array(0), array(0), array(0), array(0), array(0), array(1), array(0), array(1), array(1), array(1), array(1), array(1), array(1), array(1), array(1), array(1), array(1), array(1), array(0), array(0), array(0), array(0), array(0), array(0), array(0), array(0), array(0), array(0), array(1), array(1), array(1), array(0), array(1), array(1), array(1), array(1), array(1), array(1), array(0), array(0), array(0), array(0), array(0), array(0), array(0), array(0), array(1), array(1), array(0), array(1), array(1), array(1), array(1), array(1), array(1), array(1), array(1), array(1), array(1), array(1), array(1), array(1), array(1), array(0), array(1), array(0), array(0), array(0), array(0), array(0), array(1), array(0), array(0), array(0), array(0), array(0), array(0), array(1), array(1), array(1), array(1), array(1), array(0), array(0), array(0), array(1), array(0), array(1), array(0), array(0), array(0), array(0), array(0), array(0), array(0), array(0), array(0), array(0), array(0), array(0), array(1), array(1), array(1), array(1), array(0), array(1), array(1), array(0), array(1), array(0), array(0), array(0), array(0), array(0), array(1), array(0), array(1), array(1), array(1), array(1), array(0), array(1), array(1), array(1), array(1), array(1), array(1), array(0), array(0), array(0), array(0), array(0), array(1), array(1), array(0), array(0), array(1), array(1), array(1), array(1), array(1), array(1), array(1), array(1), array(1), array(1), array(0), array(0), array(0), array(0), array(1), array(1), array(0), array(0), array(0), array(0), array(1), array(1), array(1), array(1), array(1), array(1), array(1), array(1), array(1), array(1), array(1), array(0), array(0), array(0), array(0), array(0), array(0), array(1), array(1), array(0), array(0), array(1), array(1), array(1), array(1), array(1), array(1), array(1), array(1), array(1), array(1), array(1), array(1), array(1), array(1), array(1), array(1), array(0), array(0), array(0), array(0), array(1), array(0), array(0), array(0), array(1), array(1), array(0), array(1), array(1), array(1), array(1), array(1), array(1), array(1), array(1), array(1), array(1), array(1), array(1), array(0), array(0), array(0), array(1), array(0), array(0), array(1), array(1), array(1), array(1), array(1), array(1), array(1), array(1), array(1), array(0), array(0), array(0), array(0), array(0), array(0), array(0), array(0), array(0), array(0), array(0), array(0), array(1), array(0), array(1), array(1), array(1), array(1), array(1), array(1), array(1), array(1), array(1), array(1), array(1), array(1), array(1), array(0), array(0), array(0), array(0), array(1), array(0), array(0), array(0), array(0), array(0), array(0), array(0), array(1), array(0), array(1), array(1), array(1), array(1), array(1), array(1), array(1), array(1), array(1), array(1), array(1), array(0), array(0), array(0), array(0), array(0), array(0), array(0), array(0), array(0), array(1), array(0), array(1), array(1), array(0), array(0), array(0), array(0), array(0), array(0), array(1), array(0), array(0), array(0), array(0), array(0), array(1), array(0), array(0), array(0), array(1), array(1), array(1), array(1), array(1), array(1), array(1), array(1), array(1), array(1), array(1), array(1), array(0), array(1), array(0), array(1), array(0), array(0), array(0), array(1), array(1), array(1), array(0), array(0), array(0), array(0), array(0), array(0), array(0), array(1), array(0), array(0), array(0), array(0), array(1), array(1), array(1), array(1), array(1), array(1), array(1), array(1), array(0), array(0), array(0), array(0), array(0), array(1), array(1), array(1), array(1), array(1), array(0), array(1), array(1), array(1), array(1), array(1), array(1), array(1), array(1), array(1), array(1), array(1), array(1), array(0), array(0), array(0), array(0), array(0), array(0), array(0), array(0), array(0), array(0), array(0), array(0), array(1), array(1), array(1), array(1), array(1), array(1), array(1), array(1), array(0), array(0), array(0), array(0), array(1), array(0), array(1), array(1), array(1), array(1), array(1), array(1), array(1), array(1), array(1), array(0), array(1), array(0), array(0), array(0), array(1), array(1), array(1), array(1), array(1), array(0), array(1), array(1), array(0), array(0), array(0), array(0), array(0), array(0), array(0), array(0), array(1), array(0), array(0), array(0), array(0), array(0), array(0), array(1), array(1), array(1), array(1), array(1), array(1), array(0), array(0), array(0), array(1), array(0), array(0), array(0), array(1), array(1), array(1), array(1), array(1), array(1), array(1), array(1), array(1), array(1), array(1), array(1), array(0), array(0), array(0), array(0), array(0), array(0), array(1), array(0), array(0), array(0), array(0), array(0), array(1), array(1), array(1), array(1), array(1), array(1), array(1), array(1), array(1), array(1), array(1), array(1), array(1), array(0), array(0), array(0), array(0), array(1), array(0), array(0), array(0), array(0), array(0), array(0), array(0), array(0), array(0), array(0), array(0), array(0), array(0), array(1), array(1), array(1), array(1), array(1), array(1), array(1), array(1), array(1), array(1), array(1), array(1), array(1), array(1), array(1), array(0), array(0), array(0), array(0), array(0), array(0), array(0), array(0), array(0), array(1), array(1), array(1), array(1), array(1), array(1), array(1), array(1), array(1), array(1), array(1), array(0), array(1), array(0), array(0), array(1), array(1), array(1), array(0), array(0), array(0), array(0), array(0), array(0), array(0), array(0), array(0), array(0), array(1), array(0), array(0), array(1), array(1), array(1), array(1), array(1), array(1), array(1), array(1), array(1), array(1), array(1), array(0), array(0), array(0), array(0), array(0), array(0), array(1), array(0), array(0), array(0), array(0), array(1), array(1), array(1), array(1), array(1), array(0), array(1), array(1), array(1), array(1), array(0), array(0), array(0), array(0), array(0), array(0), array(0), array(0), array(1), array(0), array(1), array(1), array(1), array(1), array(1), array(1), array(1), array(1), array(0), array(0), array(0), array(1), array(0), array(0), array(0), array(0), array(0), array(0), array(0), array(1), array(1), array(0), array(1), array(1), array(1), array(0), array(1), array(1), array(1), array(0), array(0), array(0), array(1), array(1), array(1), array(1), array(1), array(1), array(1), array(0), array(0), array(0), array(0), array(0), array(1), array(0), array(1), array(0), array(1), array(1), array(1), array(1), array(1), array(1), array(1), array(1), array(1), array(1), array(1), array(1), array(1), array(0), array(0), array(0), array(0), array(0), array(0), array(0), array(0), array(0), array(0), array(1), array(0), array(1), array(1), array(1), array(1), array(1), array(0), array(1), array(0), array(1), array(0), array(0), array(1), array(1), array(1), array(1), array(1), array(1), array(1), array(1), array(0), array(1), array(0), array(0), array(0), array(0), array(0), array(1), array(0), array(0), array(1), array(0), array(1), array(1), array(0), array(1), array(1), array(1), array(1), array(1), array(1), array(1), array(1), array(1), array(0), array(0), array(1), array(0), array(0), array(0), array(0), array(0), array(0), array(1), array(1), array(1), array(1), array(1), array(1), array(1), array(1), array(1), array(1), array(1), array(0), array(0), array(1), array(0), array(0), array(0), array(0), array(0), array(1), array(1), array(1), array(1), array(1), array(1), array(1), array(1), array(1), array(1), array(1), array(1), array(1), array(0), array(0), array(0), array(0), array(0), array(0), array(0), array(0), array(0), array(1), array(1), array(1), array(0), array(1), array(1), array(1), array(1), array(1), array(1), array(1), array(1), array(1), array(1), array(0), array(0), array(0), array(0), array(0), array(0), array(0), array(0), array(0), array(1), array(0), array(0), array(1), array(1), array(1), array(1), array(1), array(1), array(1), array(0), array(0), array(0), array(0), array(0), array(0), array(0), array(1), array(0), array(0), array(0), array(1), array(1), array(1), array(1), array(1), array(1), array(1), array(1), array(1), array(1), array(1), array(1), array(0), array(0), array(0), array(1), array(0), array(0), array(0), array(0), array(0), array(0), array(0), array(1), array(1), array(1), array(1), array(1), array(1), array(1), array(1), array(1), array(1), array(1), array(1), array(0), array(0), array(0), array(0), array(0), array(1), array(0), array(0), array(0), array(0), array(1), array(1), array(1), array(0), array(1), array(1), array(1), array(1), array(0), array(1), array(1), array(1), array(0), array(0), array(0), array(0), array(1), array(1), array(1), array(1), array(1), array(1), array(1), array(0), array(1), array(1), array(0), array(1), array(1), array(1), array(1), array(1), array(1), array(1), array(0), array(0), array(0), array(0), array(1), array(1), array(0), array(0), array(1), array(1), array(0), array(0), array(0), array(0), array(1), array(1), array(1), array(1), array(0), array(0), array(0), array(1), array(0), array(0), array(1), array(0), array(1), array(0), array(0), array(0), array(1), array(1), array(0), array(1), array(0), array(1), array(0), array(0), array(0), array(0), array(0), array(0), array(1), array(1), array(1), array(1), array(1), array(1), array(1), array(1), array(0), array(1), array(0), array(0), array(1), array(1), array(1), array(0), array(0), array(0), array(0), array(0), array(0), array(1), array(0), array(1), array(1), array(1), array(1), array(1), array(1), array(1), array(1), array(1), array(1), array(1), array(0), array(0), array(0), array(0), array(0), array(0), array(1), array(1), array(1), array(1), array(1), array(1), array(1), array(1), array(1), array(1), array(0), array(0), array(0), array(0), array(0), array(0), array(0), array(0), array(0), array(1), array(1), array(1), array(1), array(1), array(1), array(1), array(1), array(1), array(0), array(0), array(0), array(0), array(0), array(0), array(0), array(0), array(1), array(0), array(1), array(1), array(1), array(0), array(1), array(1), array(1), array(0), array(0), array(0), array(0), array(0), array(0), array(0), array(1), array(0), array(0), array(0), array(0), array(0), array(1), array(1), array(0), array(1), array(1), array(1), array(0), array(1), array(1), array(0), array(0), array(0), array(0), array(1), array(0), array(1), array(1), array(1), array(0), array(1), array(1), array(1), array(1), array(1), array(1), array(1), array(0), array(1), array(0), array(0), array(0), array(1), array(1), array(0), array(1), array(1), array(1), array(1), array(1), array(0), array(0), array(0), array(0), array(0), array(1), array(1), array(1), array(1), array(1), array(1), array(0), array(1), array(0), array(0), array(0), array(0), array(0), array(1), array(0), array(0), array(1), array(1), array(1), array(1), array(1), array(1), array(1), array(1), array(1), array(1), array(0), array(0), array(1), array(1), array(1), array(0), array(1), array(1), array(1), array(0), array(0), array(0), array(1), array(1), array(1), array(0), array(1), array(1), array(1), array(1), array(0), array(0), array(0), array(0), array(0), array(0), array(1), array(1), array(1), array(1), array(0), array(0), array(1), array(0), array(0), array(0), array(1), array(1), array(0), array(0), array(1), array(0), array(0), array(1), array(0), array(1), array(1), array(1), array(1), array(0), array(0), array(0), array(0), array(1), array(0), array(0), array(0), array(1), array(1), array(1), array(1), array(1), array(1), array(1), array(1), array(1), array(0), array(1), array(0), array(0), array(0), array(1), array(1), array(1), array(0), array(1), array(1), array(1), array(0), array(0), array(1), array(0), array(0), array(0), array(0), array(0), array(0), array(1), array(1), array(1), array(1), array(1), array(1), array(1), array(0), array(1), array(0), array(0), array(0), array(1), array(1), array(1), array(1), array(1), array(0), array(0), array(1), array(0), array(0), array(0), array(0), array(0), array(0), array(0), array(1), array(1), array(1), array(0), array(0), array(1), array(1), array(1), array(1), array(1), array(1), array(1), array(0), array(0), array(0), array(1), array(0), array(0), array(1), array(0), array(1), array(1), array(1), array(1), array(1), array(1), array(0), array(0), array(1), array(0), array(0), array(0), array(0), array(1), array(1), array(1), array(1), array(1), array(1), array(0), array(0), array(0), array(1), array(1), array(1), array(1), array(1), array(1), array(0), array(0), array(0), array(0), array(0), array(0), array(0), array(0), array(0), array(0), array(1), array(1), array(1), array(1), array(1), array(1), array(1), array(1), array(0), array(0), array(0), array(0), array(0), array(0), array(1), array(1), array(1), array(1), array(1), array(1), array(1), array(1), array(0), array(0), array(1), array(1), array(0), array(0), array(0), array(0), array(1), array(1), array(1), array(1), array(1), array(1), array(0), array(0), array(1), array(0), array(0), array(0), array(0), array(0), array(0), array(1), array(1), array(1), array(1), array(1), array(1), array(0), array(0), array(0), array(0), array(0), array(0), array(1), array(1), array(1), array(1), array(1), array(1), array(1), array(0), array(0), array(0), array(0), array(0), array(0), array(0), array(0), array(0), array(1), array(0), array(1), array(0), array(1), array(1), array(1), array(1), array(0), array(0), array(0), array(0), array(1), array(1), array(1), array(0), array(0), array(1), array(0), array(0), array(1), array(1), array(1), array(1), array(1), array(1), array(0), array(0), array(0), array(1), array(1), array(1), array(1), array(1), array(1), array(1), array(0), array(0), array(0), array(1), array(1), array(1), array(1), array(0), array(1), array(1), array(1), array(1), array(1), array(0), array(1), array(0), array(0), array(0), array(1), array(0), array(1), array(1), array(1), array(1), array(1), array(0), array(1), array(0), array(1), array(1), array(1), array(1), array(1), array(1), array(1), array(1), array(0), array(0), array(0), array(0), array(1), array(1), array(1), array(0), array(0), array(1), array(0), array(0), array(0), array(0), array(0), array(1), array(1), array(1), array(0), array(0), array(0), array(1), array(1), array(1), array(0), array(1), array(1), array(1), array(1), array(1), array(0), array(0), array(0), array(1), array(0), array(1), array(1), array(1), array(0), array(0), array(0), array(0), array(1), array(1), array(1), array(1), array(0), array(0), array(0), array(1), array(1), array(1), array(1), array(1), array(1), array(1), array(0), array(0), array(0), array(1), array(1), array(1), array(0), array(0), array(0), array(0), array(0), array(1), array(1), array(1), array(1), array(0), array(0), array(0), array(0), array(1), array(1), array(1), array(1), array(1), array(1), array(1), array(1), array(1), array(1), array(1), array(1), array(1), array(0), array(0), array(0), array(0), array(0), array(1), array(1), array(1), array(1), array(1), array(1), array(0), array(0), array(1), array(1), array(0), array(1), array(1), array(1), array(1), array(0), array(0), array(0), array(1), array(1), array(1), array(1), array(0), array(0), array(1), array(1), array(1), array(1), array(1), array(1), array(1), array(0), array(0), array(0), array(0), array(0), array(0), array(1), array(1), array(1), array(1), array(1), array(1), array(1), array(1), array(1), array(1), array(1), array(0), array(0), array(1), array(1), array(1), array(1), array(1), array(1), array(1), array(0), array(0), array(0), array(1), array(1), array(1), array(1), array(1), array(1), array(1), array(0), array(0), array(1), array(1), array(1), array(0), array(0), array(1), array(1), array(1), array(1), array(0), array(0), array(0), array(0), array(0), array(0), array(1), array(1), array(1), array(1), array(1), array(1), array(1), array(1), array(1), array(0), array(0), array(0), array(0), array(0), array(0), array(1), array(0), array(0), array(0), array(1), array(1), array(1), array(1), array(0), array(1), array(1), array(1), array(0), array(1), array(1), array(1), array(1), array(1), array(1), array(0), array(1), array(1), array(1), array(1), array(1), array(0), array(0), array(0), array(0), array(1), array(1), array(1), array(1), array(1), array(1), array(1), array(0), array(0), array(0), array(1), array(1), array(1), array(1), array(1), array(1), array(1), array(1), array(0), array(0), array(0), array(0), array(0), array(1), array(1), array(1), array(1), array(1), array(1), array(1), array(0), array(0), array(1), array(1), array(1), array(0), array(1), array(1), array(1), array(1), array(1), array(0), array(0), array(0), array(0), array(0), array(0), array(0), array(0), array(1), array(1), array(1), array(0), array(0), array(0), array(1), array(1), array(1), array(1), array(1), array(0), array(0), array(1), array(0), array(0), array(1), array(1), array(1), array(1), array(1), array(1), array(0), array(0), array(0), array(0), array(0), array(0), array(1), array(0), array(0), array(0), array(0), array(1), array(1), array(1), array(1), array(0), array(0), array(1), array(1), array(1), array(0), array(0), array(1), array(1), array(1), array(1), array(1), array(1), array(1), array(1), array(0), array(1), array(0), array(0), array(1), array(0), array(0), array(0), array(0), array(0), array(0), array(0), array(1), array(1), array(1), array(0), array(0), array(1), array(1), array(0), array(1), array(0), array(0), array(0), array(0), array(1), array(1), array(1), array(1), array(1), array(0), array(1), array(0), array(1), array(0), array(1), array(1), array(1), array(1), array(1), array(1), array(0), array(0), array(0), array(0), array(1), array(1), array(1), array(0), array(0), array(0), array(1), array(0), array(1), array(1), array(1), array(1), array(1), array(1), array(0), array(0), array(1), array(1), array(1), array(1), array(0), array(0), array(0), array(1), array(0), array(0), array(0), array(1), array(1), array(1), array(1), array(1), array(0), array(0), array(0), array(0), array(0), array(0), array(1), array(1), array(1), array(1), array(1), array(1), array(1), array(1), array(1), array(0), array(0), array(0), array(1), array(1), array(1), array(1), array(1), array(1), array(0), array(0), array(0), array(1), array(1), array(1), array(1), array(1), array(1), array(1), array(1), array(1), array(0), array(0), array(0), array(1), array(1), array(0), array(1), array(1), array(1), array(1), array(1), array(1), array(0), array(1), array(0), array(0), array(1), array(0), array(0), array(0), array(0), array(0), array(0), array(0), array(1), array(1), array(1), array(0), array(0), array(0), array(1), array(1), array(1), array(1), array(0), array(0), array(0), array(0), array(1), array(1), array(1), array(0), array(1), array(1), array(1), array(1), array(0), array(0), array(0), array(0), array(0), array(1), array(1), array(1), array(1), array(0), array(0), array(0), array(0), array(0), array(1), array(1), array(1), array(0), array(0), array(0), array(1), array(1), array(0), array(1), array(0), array(1), array(1), array(1), array(1), array(0), array(0), array(0), array(0), array(0), array(1), array(1), array(1), array(1), array(0), array(0), array(0), array(0), array(1), array(0), array(1), array(0), array(1), array(1), array(1), array(1), array(1), array(0), array(0), array(1), array(0), array(0), array(1), array(1), array(0), array(0), array(0), array(0), array(0), array(0), array(0), array(0), array(1), array(1), array(1), array(1), array(1), array(1), array(0), array(1), array(0), array(0), array(0), array(0), array(1), array(1), array(0), array(0), array(0), array(0), array(0), array(1), array(1), array(1), array(1), array(1), array(0), array(0), array(0), array(0), array(1), array(0), array(1), array(1), array(0), array(0), array(1), array(1), array(1), array(0), array(0), array(1), array(1), array(1), array(0), array(1), array(0), array(1), array(1), array(1), array(1), array(1), array(1), array(0), array(1), array(0), array(0), array(0), array(0), array(0), array(0), array(0), array(1), array(1), array(0), array(0), array(0), array(0), array(1), array(1), array(1), array(1), array(0), array(1), array(1), array(1), array(0), array(0), array(0), array(1), array(0), array(0), array(0), array(0), array(0), array(1), array(1), array(0), array(1), array(1), array(1), array(1), array(0), array(0), array(1), array(1), array(1), array(1), array(1), array(1), array(0), array(0), array(1), array(1), array(1), array(0), array(0), array(0), array(1), array(1), array(0), array(0), array(1), array(1), array(0), array(0), array(0), array(0), array(1), array(1), array(1), array(0), array(0), array(0), array(1), array(1), array(1), array(1), array(1), array(0), array(0), array(1), array(1), array(1), array(1), array(1), array(0), array(0), array(0), array(1), array(1), array(1), array(1), array(1), array(1), array(1), array(1), array(0), array(0), array(0), array(0), array(1), array(1), array(1), array(0), array(1), array(0), array(0), array(0), array(0), array(1), array(1), array(0), array(0), array(0), array(1), array(1), array(1), array(0), array(0), array(0), array(0), array(0), array(0), array(1), array(0), array(0), array(0), array(1), array(0), array(1), array(0), array(1), array(0), array(1), array(1), array(1), array(0), array(1), array(1), array(1), array(1), array(0), array(0), array(1), array(1), array(1), array(1), array(1), array(0), array(1), array(0), array(1), array(0), array(1), array(0), array(1), array(0), array(1), array(1), array(1), array(1), array(0), array(1), array(0), array(0), array(1), array(1), array(0), array(0), array(0), array(0), array(0), array(1), array(1), array(1), array(0), array(1), array(1), array(0), array(1), array(1), array(1), array(0), array(0), array(0), array(0), array(1), array(0), array(1), array(1), array(1), array(1), array(0), array(0), array(0), array(1), array(0), array(0), array(0), array(1), array(0), array(1), array(1), array(0), array(1), array(0), array(1), array(1), array(1), array(0), array(0), array(0), array(1), array(0), array(0), array(0), array(1), array(0), array(1), array(1), array(1), array(0), array(0), array(1), array(1), array(1), array(0), array(1), array(0), array(1), array(1), array(1), array(1), array(1), array(1), array(1), array(0), array(1), array(1), array(0), array(0), array(0), array(0), array(1), array(1), array(1), array(1), array(1), array(0), array(0), array(1), array(1), array(1), array(1), array(0), array(0), array(1), array(1), array(1), array(1), array(1), array(1), array(1), array(0), array(0), array(1), array(1), array(1), array(1), array(0), array(1), array(1), array(1), array(0), array(0), array(0), array(0), array(0), array(1), array(1), array(0), array(0), array(0), array(1), array(1), array(1), array(0), array(0), array(0), array(0), array(0), array(1), array(1), array(0), array(1), array(1), array(1), array(1), array(0), array(1), array(1), array(1), array(0), array(1), array(1), array(1), array(1), array(1), array(0), array(1), array(0), array(0), array(0), array(0), array(1), array(1), array(0), array(1), array(0), array(0), array(0), array(0), array(0), array(0), array(1), array(1), array(1), array(0), array(0), array(1), array(0), array(0), array(1), array(1), array(1), array(0), array(0), array(1), array(1), array(1), array(1), array(1), array(0), array(0), array(0), array(0), array(0), array(0), array(0), array(1), array(1), array(0), array(0), array(0), array(0), array(1), array(0), array(0), array(0), array(0), array(1), array(0), array(1), array(1), array(0), array(0), array(1), array(1), array(1), array(1), array(0), array(0), array(1), array(1), array(1), array(1), array(0), array(0), array(0), array(1), array(1), array(1), array(1), array(0), array(1), array(0), array(0), array(0), array(0), array(1), array(0), array(1), array(0), array(0), array(0), array(1), array(1), array(1), array(1), array(1), array(1), array(1), array(1), array(0), array(0), array(0), array(1), array(1), array(0), array(0), array(1), array(1), array(0), array(1), array(0), array(0), array(1), array(1), array(1), array(1), array(0), array(0), array(0), array(1), array(1), array(0), array(1), array(0), array(0), array(0), array(1), array(0), array(1), array(1), array(1), array(0), array(0), array(1), array(0), array(1), array(1), array(1), array(0), array(1), array(1), array(1), array(0), array(0), array(0), array(1), array(0), array(0), array(1), array(1), array(0), array(0), array(1), array(1), array(0), array(1), array(1), array(1), array(0), array(0), array(0), array(0), array(0), array(0), array(0), array(0), array(1), array(1), array(1), array(1), array(1), array(0), array(0), array(0), array(0), array(1), array(0), array(0), array(0), array(0), array(0), array(1), array(1), array(1), array(0), array(0), array(0), array(0), array(1), array(0), array(1), array(1), array(1), array(0), array(0), array(0), array(1), array(0), array(0), array(1), array(0), array(0), array(0), array(1), array(1), array(0), array(0), array(1), array(1), array(1), array(0), array(0), array(1), array(1), array(1), array(1), array(1), array(1), array(1), array(1), array(1), array(1), array(0), array(0), array(0), array(0), array(1), array(1), array(1), array(1), array(1), array(1), array(1), array(1), array(0), array(0), array(1), array(0), array(0), array(1), array(1), array(1), array(0), array(0), array(1), array(1), array(1), array(0), array(0), array(1), array(0), array(1), array(1), array(1), array(1), array(1), array(0), array(1), array(0), array(0), array(0), array(1), array(1), array(0), array(0), array(0), array(0), array(0), array(1), array(1), array(1), array(0), array(1), array(0), array(0), array(0), array(0), array(1), array(1), array(0), array(1), array(1), array(1), array(0), array(0), array(0), array(0), array(0), array(1), array(1), array(1), array(1), array(0), array(1), array(0), array(0), array(0), array(0), array(1), array(1), array(1), array(1), array(0), array(0), array(1), array(1), array(0), array(0), array(1), array(0), array(0), array(0), array(1), array(1), array(0), array(0), array(1), array(1), array(1), array(1), array(1), array(1), array(1), array(0), array(0), array(0), array(1), array(1), array(1), array(1), array(1), array(0), array(0), array(0), array(0), array(0), array(1), array(1), array(1), array(1), array(1), array(0), array(0), array(1), array(0), array(1), array(1), array(1), array(0), array(1), array(1), array(0), array(0), array(1), array(1), array(1), array(0), array(1), array(1), array(1), array(0), array(0), array(1), array(1), array(1), array(1), array(1), array(1), array(0), array(0), array(1), array(1), array(0), array(0), array(0), array(1), array(0), array(0), array(1), array(1), array(0), array(0), array(1), array(1), array(0), array(0), array(0), array(0), array(1), array(0), array(1), array(0), array(1), array(0), array(1), array(1), array(0), array(0), array(1), array(1), array(1), array(0), array(0), array(0), array(1), array(1), array(0), array(0), array(1), array(0), array(1), array(0), array(1), array(1), array(1), array(0), array(1), array(1), array(0), array(1), array(1), array(1), array(0), array(1), array(1), array(1), array(0), array(0), array(0), array(1), array(1), array(0), array(0), array(1), array(1), array(1), array(0), array(1), array(0), array(1), array(0), array(0), array(1), array(1), array(0), array(0), array(1), array(1), array(1), array(1), array(0), array(0), array(1), array(1), array(1), array(1), array(0), array(1), array(1), array(0), array(0), array(0), array(1), array(0), array(0), array(0), array(1), array(1), array(1), array(1), array(0), array(0), array(1), array(1), array(1), array(1), array(0), array(0), array(1), array(0), array(1), array(1), array(1), array(0), array(1), array(0), array(1), array(1), array(1), array(1), array(1), array(1), array(0), array(0), array(1), array(1), array(0), array(0), array(0), array(0), array(1), array(0), array(0), array(0), array(1), array(0), array(1), array(0), array(0), array(0), array(0), array(1), array(0), array(0), array(0), array(1), array(0), array(1), array(1), array(1), array(0), array(0), array(0), array(1), array(1), array(0), array(0), array(0), array(0), array(0), array(0), array(0), array(0), array(0), array(0), array(1), array(0), array(0), array(1), array(1), array(0), array(0), array(1), array(1), array(1), array(0), array(1), array(0), array(0), array(0), array(0), array(1), array(1), array(0), array(0), array(1), array(1), array(0), array(0), array(0), array(1), array(0), array(0), array(1), array(1), array(0), array(0), array(0), array(0), array(0), array(0), array(0), array(1), array(0), array(0), array(1), array(1), array(1), array(0), array(0), array(1), array(1), array(1), array(1), array(1), array(1), array(0), array(0), array(1), array(1), array(0), array(1), array(0), array(1), array(0), array(1), array(0), array(0), array(1), array(0), array(0), array(0), array(1), array(0), array(0), array(1), array(1), array(1), array(1), array(1), array(0), array(1), array(1), array(0), array(1), array(1), array(1), array(0), array(0), array(1), array(0), array(0), array(0), array(1), array(1), array(1), array(1), array(1), array(0), array(0), array(0), array(0), array(1), array(1), array(1), array(1), array(0), array(1), array(1), array(0), array(1), array(0), array(1), array(1), array(0), array(1), array(0), array(0), array(1), array(1), array(1), array(0), array(0), array(1), array(0), array(1), array(1), array(0), array(1), array(0), array(0), array(0), array(0), array(0), array(1), array(0), array(0), array(1), array(0), array(1), array(0), array(1), array(0), array(1), array(1), array(1), array(0), array(0), array(0), array(1), array(1), array(0), array(0), array(0), array(1), array(1), array(0), array(0), array(0), array(0), array(1), array(1), array(1), array(1), array(0), array(0), array(1), array(0), array(0), array(1), array(0), array(0), array(1), array(1), array(1), array(1), array(1), array(0), array(0), array(1), array(0), array(1), array(0), array(0), array(0), array(0), array(0), array(1), array(0), array(1), array(0), array(0), array(1), array(0), array(0), array(1), array(0), array(1), array(1), array(1), array(0), array(0), array(1), array(0), array(0), array(0), array(1), array(1), array(0), array(0), array(0), array(1), array(1), array(0), array(1), array(1), array(0), array(0), array(1), array(1), array(0), array(1), array(1), array(0), array(0), array(1), array(0), array(0), array(0), array(0), array(0), array(0), array(1), array(1), array(1), array(1), array(1), array(0), array(1), array(1), array(0), array(0), array(0), array(0), array(0), array(1), array(0), array(1), array(0), array(0), array(1), array(1), array(1), array(0), array(0), array(1), array(0), array(0), array(1), array(1), array(1), array(0), array(1), array(0), array(0), array(1), array(1), array(1), array(1), array(0), array(1), array(0), array(0), array(0), array(1), array(1), array(0), array(0), array(0), array(1), array(0), array(1), array(1), array(1), array(1), array(0), array(1), array(1), array(1), array(1), array(0), array(1), array(0), array(0), array(0), array(0), array(0), array(1), array(0), array(1), array(1), array(1), array(0), array(0), array(0), array(1), array(1), array(0), array(1), array(1), array(1), array(0), array(1), array(0), array(0), array(0), array(1), array(0), array(1), array(1), array(0), array(0), array(1), array(1), array(1), array(0), array(1), array(1), array(1), array(0), array(0), array(1), array(1), array(1), array(0), array(1), array(1), array(1), array(1), array(0), array(0), array(1), array(1), array(1), array(1), array(1), array(0), array(1), array(1), array(1), array(0), array(0), array(1), array(1), array(0), array(0), array(0), array(1), array(0), array(1), array(0), array(0), array(0), array(0), array(1), array(0), array(1), array(0), array(1), array(0), array(0), array(0), array(1), array(0), array(0), array(1), array(0), array(1), array(0), array(1), array(1), array(0), array(0), array(0), array(0), array(0), array(0), array(1), array(0), array(0), array(0), array(1), array(0), array(0), array(0), array(0), array(0), array(0), array(0), array(1), array(1), array(0), array(0), array(1), array(0), array(1), array(1), array(1), array(0), array(0), array(1), array(1), array(1), array(0), array(0), array(0), array(0), array(0), array(0), array(0), array(0), array(1), array(1), array(0), array(0), array(0), array(1), array(1), array(1), array(1), array(1), array(1), array(1), array(0), array(0), array(0), array(0), array(1), array(0), array(0), array(0), array(1), array(0), array(0), array(0), array(0), array(1), array(0), array(0), array(0), array(1), array(1), array(1), array(1), array(1), array(0), array(1), array(0), array(1), array(1), array(0), array(0), array(1), array(1), array(1), array(1), array(1), array(1), array(0), array(0), array(0), array(1), array(0), array(0), array(0), array(1), array(0), array(1), array(1), array(1), array(1), array(0), array(1), array(1), array(0), array(1), array(1), array(0), array(1), array(0), array(1), array(1), array(0), array(0), array(0), array(0), array(1), array(0), array(1), array(1), array(0), array(0), array(1), array(1), array(0), array(0), array(1), array(0), array(0), array(0), array(1), array(1), array(0), array(1), array(0), array(0), array(1), array(1), array(1), array(1), array(1), array(1), array(1), array(1), array(0), array(0), array(0), array(1), array(0), array(0), array(0), array(1), array(1), array(1), array(0), array(0), array(1), array(1), array(0), array(1), array(1), array(1), array(0), array(1), array(1), array(0), array(1), array(0), array(1), array(1), array(1), array(1), array(0), array(1), array(0), array(0), array(1), array(1), array(1), array(1), array(0), array(0), array(1), array(0), array(0), array(0), array(1), array(1), array(0), array(0), array(1), array(1), array(1), array(0), array(1), array(0), array(1), array(1), array(1), array(1), array(0), array(0), array(0), array(0), array(0), array(0), array(0), array(1), array(1), array(0), array(0), array(1), array(0), array(1), array(1), array(1), array(1), array(1), array(1), array(0), array(0), array(0), array(1), array(1), array(1), array(0), array(1), array(1), array(1), array(1), array(0), array(0), array(1), array(0), array(1), array(0), array(0), array(0), array(1), array(1), array(0), array(0), array(0), array(1), array(0), array(1), array(1), array(1), array(0), array(1), array(1), array(0), array(1), array(0), array(0), array(0), array(0), array(1), array(0), array(1), array(0), array(0), array(1), array(1), array(1), array(1), array(1), array(1), array(0), array(1), array(1), array(0), array(1), array(1), array(0), array(0), array(1), array(0), array(0), array(0), array(0), array(1), array(0), array(0), array(1), array(1)]\n",
            "[array(1), array(1), array(1), array(1), array(0), array(0), array(0), array(0), array(0), array(0), array(0), array(0), array(1), array(1), array(0), array(0), array(0), array(0), array(0), array(0), array(0), array(1), array(1), array(1), array(0), array(0), array(0), array(0), array(1), array(1), array(1), array(1), array(0), array(0), array(0), array(0), array(0), array(1), array(1), array(1), array(1), array(1), array(0), array(0), array(0), array(0), array(0), array(0), array(0), array(1), array(1), array(1), array(0), array(0), array(0), array(0), array(0), array(0), array(0), array(0), array(0), array(1), array(0), array(0), array(0), array(0), array(1), array(1), array(1), array(1), array(1), array(1), array(1), array(1), array(0), array(0), array(0), array(1), array(1), array(1), array(1), array(1), array(0), array(0), array(0), array(0), array(1), array(1), array(1), array(0), array(0), array(0), array(0), array(1), array(1), array(1), array(1), array(1), array(0), array(0), array(0), array(0), array(0), array(0), array(0), array(0), array(1), array(1), array(1), array(0), array(0), array(0), array(0), array(0), array(0), array(0), array(1), array(1), array(0), array(0), array(0), array(0), array(0), array(0), array(0), array(0), array(1), array(1), array(1), array(1), array(1), array(0), array(0), array(0), array(0), array(0), array(0), array(0), array(1), array(1), array(1), array(1), array(1), array(1), array(1), array(0), array(0), array(1), array(1), array(1), array(1), array(0), array(0), array(0), array(0), array(0), array(0), array(0), array(1), array(1), array(1), array(1), array(0), array(0), array(0), array(1), array(1), array(1), array(0), array(0), array(1), array(1), array(1), array(1), array(0), array(0), array(0), array(0), array(1), array(0), array(0), array(0), array(0), array(0), array(0), array(1), array(1), array(0), array(0), array(0), array(0), array(0), array(1), array(0), array(0), array(0), array(0), array(0), array(0), array(0), array(0), array(0), array(0), array(1), array(1), array(1), array(1), array(1), array(0), array(1), array(1), array(1), array(1), array(0), array(0), array(0), array(1), array(0), array(0), array(0), array(1), array(1), array(1), array(0), array(0), array(1), array(1), array(1), array(1), array(1), array(0), array(0), array(1), array(1), array(1), array(0), array(0), array(1), array(0), array(1), array(1), array(0), array(1), array(0), array(0), array(1), array(0), array(0), array(0), array(1), array(1), array(0), array(0), array(1), array(1), array(1), array(0), array(1), array(1), array(1), array(1), array(1), array(0), array(0), array(0), array(0), array(1), array(1), array(1), array(1), array(0), array(1), array(1), array(1), array(1), array(1), array(1), array(1), array(0), array(0), array(0), array(1), array(1), array(0), array(0), array(0), array(0), array(0), array(1), array(1), array(1), array(1), array(1), array(0), array(0), array(0), array(0), array(0), array(0), array(0), array(0), array(0), array(1), array(1), array(1), array(1), array(1), array(0), array(0), array(0), array(0), array(0), array(1), array(1), array(1), array(0), array(0), array(0), array(0), array(0), array(1), array(1), array(1), array(1), array(0), array(0), array(1), array(1), array(1), array(1), array(1), array(1), array(1), array(0), array(0), array(0), array(0), array(0), array(0), array(1), array(1), array(1), array(1), array(1), array(1), array(0), array(0), array(0), array(0), array(0), array(0), array(0), array(1), array(1), array(1), array(1), array(0), array(0), array(0), array(1), array(1), array(0), array(0), array(0), array(0), array(0), array(0), array(1), array(1), array(1), array(1), array(1), array(0), array(0), array(0), array(0), array(0), array(0), array(0), array(0), array(0), array(1), array(1), array(1), array(1), array(1), array(0), array(0), array(0), array(0), array(0), array(0), array(0), array(0), array(0), array(1), array(1), array(1), array(1), array(1), array(1), array(1), array(0), array(0), array(0), array(0), array(0), array(1), array(1), array(1), array(1), array(1), array(1), array(0), array(0), array(1), array(1), array(1), array(1), array(1), array(0), array(0), array(0), array(0), array(0), array(0), array(0), array(0), array(0), array(0), array(1), array(1), array(1), array(1), array(1), array(0), array(0), array(0), array(0), array(0), array(0), array(0), array(0), array(1), array(1), array(1), array(1), array(0), array(1), array(1), array(1), array(1), array(0), array(0), array(1), array(1), array(1), array(1), array(0), array(0), array(0), array(0), array(0), array(0), array(0), array(1), array(1), array(0), array(0), array(0), array(0), array(0), array(0), array(0), array(1), array(1), array(1), array(1), array(1), array(1), array(1), array(0), array(0), array(0), array(0), array(1), array(1), array(1), array(1), array(1), array(1), array(0), array(0), array(0), array(0), array(0), array(0), array(1), array(1), array(1), array(1), array(1), array(0), array(0), array(0), array(0), array(0), array(0), array(0), array(0), array(1), array(1), array(0), array(0), array(0), array(0), array(0), array(0), array(0), array(0), array(0), array(0), array(0), array(1), array(1), array(1), array(1), array(1), array(1), array(1), array(1), array(1), array(1), array(1), array(0), array(0), array(0), array(0), array(0), array(0), array(0), array(0), array(0), array(1), array(1), array(1), array(1), array(1), array(1), array(0), array(0), array(0), array(0), array(0), array(0), array(1), array(1), array(1), array(1), array(1), array(1), array(0), array(0), array(0), array(0), array(0), array(0), array(0), array(0), array(1), array(1), array(1), array(1), array(1), array(1), array(0), array(0), array(0), array(0), array(0), array(0), array(0), array(1), array(1), array(1), array(1), array(1), array(1), array(1), array(1), array(0), array(0), array(0), array(0), array(0), array(1), array(1), array(1), array(1), array(0), array(0), array(0), array(0), array(0), array(0), array(0), array(1), array(1), array(1), array(0), array(0), array(0), array(0), array(0), array(0), array(0), array(0), array(1), array(1), array(1), array(1), array(1), array(1), array(0), array(0), array(0), array(0), array(0), array(0), array(0), array(1), array(1), array(1), array(1), array(1), array(1), array(1), array(1), array(1), array(1), array(0), array(0), array(0), array(1), array(1), array(1), array(1), array(1), array(0), array(0), array(0), array(0), array(1), array(1), array(1), array(1), array(1), array(0), array(0), array(0), array(0), array(1), array(1), array(1), array(1), array(1), array(0), array(0), array(0), array(0), array(0), array(0), array(0), array(1), array(1), array(1), array(1), array(1), array(1), array(1), array(0), array(0), array(0), array(0), array(0), array(0), array(1), array(0), array(0), array(0), array(0), array(0), array(0), array(0), array(1), array(1), array(0), array(0), array(1), array(1), array(1), array(1), array(1), array(1), array(0), array(0), array(1), array(1), array(1), array(1), array(1), array(1), array(1), array(0), array(0), array(0), array(0), array(0), array(0), array(0), array(1), array(1), array(1), array(1), array(1), array(1), array(0), array(0), array(0), array(0), array(1), array(1), array(1), array(1), array(0), array(1), array(1), array(1), array(1), array(1), array(1), array(0), array(0), array(0), array(0), array(0), array(0), array(1), array(1), array(1), array(1), array(1), array(0), array(0), array(0), array(0), array(0), array(0), array(0), array(1), array(1), array(1), array(1), array(0), array(0), array(0), array(0), array(0), array(1), array(1), array(1), array(1), array(1), array(1), array(1), array(1), array(0), array(0), array(0), array(0), array(0), array(0), array(0), array(0), array(0), array(0), array(0), array(0), array(1), array(1), array(1), array(1), array(1), array(1), array(1), array(1), array(1), array(1), array(1), array(1), array(1), array(1), array(0), array(0), array(0), array(0), array(0), array(0), array(0), array(0), array(0), array(1), array(1), array(1), array(1), array(1), array(1), array(1), array(1), array(1), array(1), array(1), array(0), array(0), array(0), array(0), array(0), array(0), array(0), array(0), array(0), array(0), array(0), array(0), array(0), array(1), array(1), array(1), array(1), array(1), array(1), array(1), array(1), array(1), array(1), array(0), array(0), array(0), array(0), array(0), array(0), array(0), array(0), array(0), array(0), array(0), array(0), array(0), array(1), array(1), array(1), array(1), array(1), array(0), array(0), array(0), array(0), array(0), array(0), array(0), array(0), array(0), array(0), array(1), array(1), array(1), array(1), array(1), array(1), array(1), array(1), array(1), array(0), array(0), array(0), array(0), array(0), array(0), array(0), array(0), array(0), array(1), array(1), array(1), array(1), array(1), array(1), array(1), array(1), array(1), array(0), array(0), array(0), array(0), array(0), array(0), array(0), array(0), array(1), array(1), array(1), array(1), array(1), array(1), array(1), array(1), array(1), array(1), array(1), array(1), array(1), array(1), array(1), array(0), array(0), array(0), array(0), array(0), array(0), array(0), array(1), array(1), array(1), array(1), array(1), array(1), array(1), array(1), array(1), array(1), array(1), array(0), array(0), array(0), array(0), array(0), array(0), array(0), array(1), array(1), array(1), array(1), array(1), array(1), array(1), array(1), array(0), array(0), array(0), array(0), array(0), array(0), array(0), array(0), array(0), array(0), array(0), array(0), array(0), array(0), array(0), array(0), array(0), array(1), array(1), array(1), array(1), array(1), array(0), array(0), array(0), array(0), array(0), array(0), array(0), array(0), array(0), array(0), array(1), array(1), array(1), array(1), array(1), array(1), array(1), array(0), array(0), array(0), array(0), array(0), array(0), array(0), array(0), array(1), array(1), array(1), array(1), array(1), array(1), array(0), array(0), array(0), array(0), array(0), array(0), array(1), array(1), array(1), array(1), array(1), array(1), array(1), array(1), array(1), array(1), array(1), array(1), array(1), array(1), array(1), array(1), array(1), array(1), array(1), array(1), array(1), array(1), array(0), array(0), array(0), array(0), array(0), array(0), array(0), array(0), array(0), array(0), array(0), array(0), array(0), array(0), array(0), array(0), array(1), array(1), array(1), array(1), array(1), array(1), array(1), array(1), array(1), array(1), array(1), array(1), array(0), array(0), array(0), array(0), array(0), array(0), array(0), array(0), array(0), array(0), array(0), array(0), array(0), array(0), array(0), array(0), array(1), array(1), array(1), array(1), array(1), array(1), array(1), array(1), array(1), array(1), array(1), array(1), array(1), array(1), array(0), array(0), array(0), array(0), array(0), array(0), array(0), array(0), array(0), array(0), array(0), array(0), array(0), array(0), array(0), array(0), array(0), array(0), array(0), array(1), array(1), array(1), array(1), array(1), array(1), array(1), array(1), array(1), array(1), array(1), array(1), array(1), array(1), array(1), array(1), array(1), array(1), array(1), array(1), array(1), array(0), array(0), array(0), array(0), array(0), array(0), array(0), array(0), array(0), array(0), array(0), array(0), array(0), array(0), array(0), array(0), array(0), array(0), array(0), array(0), array(0), array(1), array(1), array(1), array(1), array(1), array(1), array(1), array(1), array(1), array(1), array(1), array(1), array(1), array(1), array(1), array(1), array(1), array(1), array(1), array(1), array(1), array(1), array(1), array(0), array(0), array(0), array(0), array(0), array(0), array(0), array(0), array(0), array(0), array(0), array(0), array(0), array(1), array(1), array(1), array(1), array(1), array(1), array(1), array(1), array(1), array(1), array(1), array(1), array(1), array(0), array(0), array(0), array(0), array(0), array(0), array(0), array(0), array(0), array(0), array(0), array(0), array(0), array(1), array(1), array(1), array(1), array(1), array(1), array(1), array(1), array(1), array(1), array(1), array(1), array(1), array(1), array(0), array(0), array(0), array(0), array(0), array(0), array(0), array(0), array(0), array(0), array(0), array(0), array(1), array(1), array(1), array(1), array(1), array(1), array(1), array(1), array(1), array(1), array(1), array(1), array(1), array(1), array(1), array(0), array(0), array(0), array(0), array(0), array(0), array(0), array(0), array(0), array(0), array(0), array(0), array(1), array(1), array(1), array(1), array(1), array(1), array(1), array(1), array(1), array(1), array(1), array(1), array(1), array(1), array(1), array(1), array(1), array(1), array(1), array(1), array(1), array(0), array(0), array(0), array(0), array(0), array(0), array(0), array(0), array(0), array(0), array(0), array(0), array(0), array(0), array(1), array(1), array(1), array(1), array(1), array(1), array(1), array(1), array(1), array(1), array(1), array(1), array(1), array(0), array(0), array(0), array(0), array(0), array(0), array(0), array(0), array(0), array(0), array(0), array(0), array(0), array(0), array(0), array(1), array(1), array(1), array(1), array(1), array(1), array(1), array(1), array(1), array(1), array(1), array(1), array(1), array(1), array(1), array(0), array(0), array(0), array(0), array(0), array(0), array(0), array(0), array(0), array(0), array(0), array(0), array(0), array(0), array(0), array(0), array(0), array(0), array(0), array(1), array(1), array(1), array(1), array(1), array(1), array(1), array(1), array(1), array(1), array(1), array(1), array(1), array(1), array(1), array(1), array(1), array(1), array(1), array(1), array(1), array(1), array(1), array(1), array(0), array(0), array(0), array(0), array(0), array(0), array(0), array(0), array(0), array(0), array(0), array(0), array(0), array(0), array(0), array(0), array(0), array(0), array(0), array(0), array(0), array(0), array(0), array(0), array(0), array(0), array(1), array(1), array(1), array(1), array(1), array(1), array(1), array(1), array(1), array(1), array(1), array(1), array(1), array(1), array(1), array(1), array(0), array(0), array(0), array(0), array(0), array(0), array(0), array(0), array(0), array(0), array(0), array(0), array(1), array(1), array(1), array(1), array(1), array(1), array(1), array(1), array(1), array(1), array(1), array(1), array(1), array(1), array(1), array(1), array(1), array(1), array(1), array(1), array(0), array(0), array(0), array(0), array(0), array(0), array(0), array(0), array(0), array(0), array(0), array(0), array(0), array(0), array(0), array(0), array(0), array(1), array(1), array(1), array(1), array(1), array(1), array(1), array(1), array(1), array(1), array(1), array(1), array(1), array(1), array(1), array(1), array(1), array(1), array(1), array(0), array(0), array(0), array(0), array(0), array(0), array(0), array(0), array(0), array(0), array(0), array(0), array(0), array(0), array(0), array(0), array(0), array(0), array(0), array(0), array(0), array(0), array(1), array(1), array(1), array(1), array(1), array(1), array(1), array(1), array(1), array(1), array(1), array(1), array(1), array(1), array(1), array(1), array(1), array(1), array(1), array(1), array(1), array(1), array(1), array(0), array(0), array(0), array(0), array(0), array(0), array(0), array(0), array(0), array(0), array(0), array(1), array(1), array(1), array(1), array(1), array(1), array(1), array(1), array(1), array(1), array(1), array(1), array(1), array(1), array(1), array(1), array(1), array(1), array(1), array(1), array(1), array(1), array(1), array(1), array(1), array(0), array(0), array(0), array(0), array(0), array(0), array(0), array(0), array(0), array(0), array(0), array(1), array(1), array(1), array(1), array(1), array(1), array(1), array(1), array(1), array(1), array(1), array(1), array(1), array(1), array(1), array(1), array(1), array(1), array(1), array(0), array(0), array(0), array(0), array(0), array(0), array(0), array(0), array(0), array(0), array(0), array(0), array(0), array(0), array(0), array(0), array(0), array(1), array(1), array(1), array(1), array(1), array(1), array(1), array(1), array(1), array(1), array(1), array(1), array(1), array(1), array(1), array(1), array(1), array(1), array(1), array(1), array(0), array(0), array(0), array(0), array(0), array(0), array(0), array(0), array(0), array(0), array(0), array(0), array(0), array(0), array(0), array(0), array(0), array(0), array(0), array(0), array(0), array(0), array(1), array(1), array(1), array(1), array(1), array(1), array(1), array(1), array(1), array(1), array(1), array(1), array(1), array(1), array(1), array(1), array(1), array(1), array(1), array(1), array(1), array(1), array(1), array(1), array(0), array(0), array(0), array(0), array(0), array(0), array(0), array(0), array(0), array(0), array(0), array(0), array(0), array(0), array(0), array(0), array(0), array(0), array(1), array(1), array(1), array(1), array(1), array(1), array(1), array(1), array(1), array(1), array(1), array(1), array(1), array(1), array(1), array(1), array(1), array(0), array(0), array(0), array(0), array(0), array(0), array(0), array(0), array(0), array(0), array(0), array(0), array(0), array(0), array(0), array(0), array(0), array(0), array(0), array(0), array(1), array(1), array(1), array(1), array(1), array(1), array(1), array(1), array(1), array(1), array(1), array(1), array(1), array(1), array(1), array(1), array(1), array(1), array(1), array(1), array(1), array(1), array(1), array(1), array(1), array(1), array(0), array(0), array(0), array(0), array(0), array(0), array(0), array(0), array(0), array(0), array(1), array(1), array(1), array(1), array(1), array(0), array(0), array(0), array(0), array(0), array(0), array(0), array(0), array(0), array(0), array(0), array(0), array(0), array(0), array(0), array(0), array(1), array(1), array(1), array(1), array(1), array(1), array(1), array(1), array(1), array(1), array(1), array(1), array(1), array(1), array(1), array(0), array(0), array(0), array(0), array(0), array(0), array(0), array(0), array(0), array(0), array(0), array(0), array(0), array(0), array(0), array(1), array(1), array(1), array(1), array(1), array(1), array(1), array(1), array(1), array(1), array(1), array(1), array(1), array(1), array(1), array(1), array(1), array(1), array(1), array(0), array(0), array(0), array(0), array(0), array(0), array(0), array(0), array(0), array(0), array(0), array(1), array(1), array(1), array(1), array(1), array(1), array(1), array(1), array(1), array(1), array(1), array(1), array(1), array(1), array(1), array(1), array(1), array(1), array(1), array(0), array(0), array(0), array(0), array(0), array(0), array(0), array(0), array(0), array(0), array(0), array(1), array(1), array(1), array(1), array(1), array(1), array(1), array(1), array(1), array(1), array(1), array(1), array(1), array(1), array(1), array(1), array(1), array(1), array(1), array(0), array(0), array(0), array(0), array(0), array(0), array(0), array(0), array(0), array(0), array(0), array(0), array(1), array(1), array(1), array(1), array(1), array(1), array(1), array(1), array(1), array(1), array(1), array(1), array(1), array(1), array(1), array(1), array(1), array(1), array(1), array(1), array(1), array(0), array(0), array(0), array(0), array(0), array(0), array(0), array(0), array(0), array(0), array(0), array(0), array(1), array(1), array(1), array(1), array(1), array(1), array(1), array(1), array(1), array(1), array(1), array(1), array(1), array(1), array(1), array(1), array(1), array(1), array(1), array(0), array(0), array(0), array(0), array(0), array(0), array(0), array(0), array(0), array(0), array(0), array(0), array(0), array(0), array(0), array(0), array(0), array(0), array(0), array(0), array(0), array(0), array(1), array(1), array(1), array(1), array(1), array(1), array(1), array(1), array(1), array(1), array(1), array(1), array(1), array(1), array(1), array(1), array(1), array(1), array(1), array(0), array(0), array(0), array(0), array(0), array(0), array(0), array(0), array(0), array(0), array(0), array(0), array(0), array(0), array(0), array(0), array(0), array(0), array(0), array(1), array(1), array(1), array(1), array(1), array(1), array(1), array(1), array(1), array(1), array(1), array(1), array(1), array(1), array(0), array(0), array(0), array(0), array(0), array(0), array(0), array(0), array(0), array(0), array(0), array(0), array(1), array(1), array(1), array(1), array(1), array(1), array(1), array(1), array(1), array(1), array(1), array(1), array(1), array(0), array(0), array(0), array(0), array(0), array(0), array(0), array(0), array(0), array(0), array(0), array(0), array(0), array(0), array(0), array(0), array(1), array(1), array(1), array(1), array(1), array(1), array(1), array(1), array(1), array(1), array(1), array(1), array(0), array(0), array(0), array(0), array(0), array(0), array(0), array(0), array(0), array(0), array(0), array(0), array(0), array(0), array(0), array(0), array(0), array(1), array(1), array(1), array(1), array(1), array(1), array(1), array(1), array(1), array(1), array(1), array(1), array(1), array(0), array(0), array(0), array(0), array(0), array(0), array(0), array(0), array(0), array(1), array(1), array(1), array(1), array(1), array(1), array(1), array(1), array(1), array(1), array(1), array(1), array(1), array(1), array(1), array(1), array(1), array(1), array(0), array(0), array(0), array(0), array(0), array(0), array(0), array(0), array(0), array(0), array(1), array(1), array(1), array(1), array(1), array(1), array(1), array(1), array(1), array(1), array(1), array(1), array(1), array(0), array(0), array(0), array(0), array(0), array(0), array(0), array(0), array(0), array(0), array(0), array(0), array(0), array(0), array(0), array(0), array(0), array(0), array(1), array(1), array(1), array(1), array(1), array(1), array(1), array(1), array(1), array(1), array(1), array(1), array(1), array(1), array(1), array(1), array(1), array(1), array(1), array(0), array(0), array(0), array(0), array(0), array(0), array(0), array(0), array(0), array(0), array(0), array(0), array(0), array(0), array(0), array(0), array(0), array(0), array(1), array(1), array(1), array(1), array(1), array(1), array(1), array(1), array(1), array(1), array(0), array(0), array(0), array(0), array(0), array(0), array(0), array(0), array(0), array(0), array(0), array(0), array(0), array(0), array(1), array(1), array(1), array(1), array(1), array(1), array(1), array(1), array(1), array(1), array(1), array(1), array(1), array(0), array(0), array(0), array(0), array(0), array(0), array(0), array(0), array(0), array(0), array(0), array(0), array(0), array(0), array(1), array(1), array(1), array(1), array(1), array(1), array(1), array(1), array(1), array(1), array(1), array(1), array(1), array(1), array(1), array(1), array(1), array(1), array(1), array(1), array(1), array(0), array(0), array(0), array(0), array(0), array(0), array(0), array(0), array(0), array(1), array(1), array(1), array(1), array(1), array(1), array(1), array(1), array(1), array(1), array(1), array(1), array(1), array(1), array(1), array(1), array(1), array(1), array(0), array(0), array(0), array(0), array(0), array(0), array(0), array(0), array(1), array(1), array(1), array(1), array(1), array(1), array(1), array(1), array(1), array(0), array(0), array(0), array(0), array(0), array(0), array(0), array(0), array(0), array(0), array(0), array(0), array(1), array(1), array(1), array(1), array(0), array(0), array(0), array(0), array(0), array(0), array(0), array(0), array(0), array(0), array(1), array(1), array(1), array(1), array(1), array(1), array(0), array(0), array(0), array(0), array(0), array(0), array(0), array(0), array(0), array(1), array(1), array(1), array(1), array(1), array(1), array(1), array(0), array(0), array(0), array(0), array(0), array(0), array(0), array(0), array(0), array(0), array(0), array(0), array(1), array(1), array(1), array(1), array(1), array(1), array(1), array(1), array(1), array(1), array(1), array(1), array(1), array(1), array(1), array(1), array(0), array(0), array(0), array(0), array(0), array(0), array(0), array(0), array(0), array(0), array(0), array(0), array(0), array(0), array(1), array(1), array(1), array(1), array(1), array(1), array(1), array(1), array(1), array(1), array(1), array(1), array(0), array(0), array(0), array(0), array(0), array(0), array(0), array(0), array(0), array(1), array(1), array(1), array(1), array(1), array(1), array(1), array(0), array(0), array(0), array(0), array(0), array(0), array(0), array(0), array(0), array(0), array(0), array(1), array(1), array(1), array(1), array(1), array(1), array(1), array(1), array(1), array(1), array(1), array(1), array(1), array(0), array(0), array(0), array(0), array(0), array(0), array(0), array(0), array(0), array(0), array(1), array(1), array(1), array(1), array(1), array(1), array(1), array(1), array(1), array(1), array(0), array(0), array(0), array(0), array(0), array(0), array(0), array(0), array(1), array(1), array(1), array(1), array(1), array(1), array(1), array(1), array(1), array(1), array(1), array(1), array(1), array(1), array(1), array(1), array(1), array(0), array(0), array(0), array(0), array(0), array(0), array(0), array(0), array(0), array(0), array(0), array(0), array(0), array(0), array(1), array(1), array(1), array(1), array(1), array(1), array(0), array(0), array(0), array(0), array(0), array(0), array(0), array(0), array(0), array(0), array(0), array(0), array(0), array(0), array(0), array(0), array(0), array(1), array(1), array(1), array(1), array(1), array(1), array(1), array(0), array(0), array(0), array(0), array(0), array(0), array(0), array(0), array(0), array(1), array(1), array(1), array(1), array(1), array(1), array(1), array(1), array(1), array(1), array(1), array(0), array(0), array(0), array(0), array(0), array(0), array(0), array(0), array(0), array(1), array(1), array(1), array(1), array(1), array(1), array(1), array(1), array(1), array(1), array(0), array(0), array(0), array(0), array(0), array(0), array(0), array(0), array(0), array(0), array(1), array(1), array(1), array(1), array(1), array(1), array(1), array(1), array(1), array(1), array(1), array(0), array(0), array(0), array(0), array(0), array(0), array(0), array(0), array(0), array(0), array(1), array(1), array(1), array(1), array(1), array(1), array(1), array(1), array(1), array(1), array(1), array(1), array(1), array(1), array(1), array(1), array(0), array(0), array(0), array(0), array(0), array(0), array(0), array(0), array(1), array(1), array(1), array(1), array(1), array(1), array(1), array(1), array(1), array(1), array(1), array(1), array(1), array(1), array(1), array(0), array(0), array(0), array(0), array(0), array(0), array(1), array(1), array(1), array(1), array(1), array(1), array(1), array(1), array(1), array(0), array(0), array(0), array(0), array(0), array(0), array(0), array(0), array(0), array(0), array(0), array(0), array(0), array(0), array(1), array(1), array(1), array(1), array(1), array(1), array(1), array(1), array(1), array(1), array(1), array(0), array(0), array(0), array(0), array(0), array(0), array(0), array(0), array(0), array(0), array(0), array(0), array(0), array(0), array(0), array(0), array(1), array(1), array(1), array(1), array(1), array(1), array(1), array(1), array(1), array(1), array(1), array(0), array(0), array(0), array(0), array(0), array(0), array(0), array(0), array(0), array(1), array(1), array(1), array(1), array(0), array(0), array(0), array(0), array(0), array(0), array(0), array(0), array(0), array(0), array(0), array(0), array(0), array(0), array(0), array(0), array(1), array(1), array(1), array(1), array(1), array(1), array(1), array(1), array(1), array(1), array(1), array(1), array(0), array(0), array(0), array(0), array(0), array(0), array(0), array(1), array(1), array(1), array(0), array(0), array(0), array(0), array(0), array(0), array(0), array(0), array(0), array(0), array(0), array(0), array(1), array(1), array(1), array(1), array(1), array(1), array(1), array(1), array(0), array(0), array(0), array(0), array(0), array(1), array(1), array(1), array(1), array(1), array(1), array(1), array(1), array(1), array(1), array(1), array(1), array(1), array(1), array(1), array(1), array(1), array(1), array(0), array(0), array(0), array(0), array(0), array(0), array(0), array(0), array(0), array(0), array(0), array(0), array(1), array(1), array(1), array(1), array(1), array(1), array(1), array(1), array(0), array(0), array(0), array(0), array(0), array(0), array(0), array(1), array(1), array(1), array(1), array(1), array(1), array(1), array(1), array(0), array(0), array(0), array(0), array(0), array(1), array(1), array(1), array(1), array(1), array(1), array(1), array(1), array(0), array(0), array(0), array(0), array(0), array(0), array(0), array(0), array(0), array(0), array(0), array(0), array(0), array(0), array(0), array(1), array(1), array(1), array(1), array(1), array(1), array(0), array(0), array(0), array(0), array(0), array(0), array(0), array(1), array(1), array(1), array(1), array(1), array(1), array(1), array(1), array(1), array(1), array(1), array(1), array(0), array(0), array(0), array(0), array(0), array(0), array(0), array(0), array(0), array(0), array(0), array(0), array(1), array(1), array(1), array(1), array(1), array(1), array(1), array(1), array(1), array(1), array(1), array(1), array(1), array(0), array(0), array(0), array(0), array(0), array(0), array(0), array(0), array(0), array(0), array(0), array(0), array(0), array(0), array(0), array(0), array(0), array(0), array(1), array(1), array(1), array(1), array(1), array(1), array(1), array(1), array(1), array(1), array(1), array(1), array(1), array(1), array(1), array(0), array(0), array(0), array(0), array(0), array(0), array(0), array(0), array(0), array(1), array(1), array(1), array(1), array(1), array(1), array(1), array(1), array(1), array(1), array(1), array(1), array(1), array(0), array(0), array(0), array(0), array(0), array(0), array(0), array(0), array(0), array(0), array(0), array(0), array(0), array(0), array(0), array(0), array(0), array(0), array(1), array(1), array(1), array(1), array(1), array(1), array(1), array(1), array(1), array(1), array(1), array(0), array(0), array(0), array(0), array(0), array(0), array(0), array(0), array(0), array(0), array(0), array(1), array(1), array(1), array(1), array(1), array(1), array(1), array(1), array(1), array(1), array(0), array(0), array(0), array(0), array(0), array(0), array(0), array(0), array(0), array(0), array(0), array(1), array(1), array(1), array(1), array(1), array(1), array(0), array(0), array(0), array(0), array(0), array(0), array(0), array(0), array(0), array(0), array(0), array(0), array(0), array(1), array(1), array(1), array(1), array(1), array(1), array(1), array(1), array(1), array(0), array(0), array(0), array(1), array(1), array(1), array(1), array(1), array(1), array(1), array(0), array(0), array(0), array(0), array(0), array(0), array(0), array(0), array(0), array(1), array(1), array(1), array(1), array(1), array(1), array(1), array(1), array(1), array(1), array(1), array(1), array(1), array(0), array(0), array(0), array(0), array(0), array(0), array(0), array(0), array(0), array(0), array(1), array(1), array(1), array(1), array(1), array(1), array(0), array(0), array(0), array(0), array(0), array(0), array(0), array(1), array(1), array(1), array(1), array(1), array(1), array(1), array(1), array(0), array(0), array(0), array(0), array(0), array(0), array(0), array(0), array(0), array(0), array(0), array(0), array(1), array(1), array(1), array(1), array(1), array(1), array(1), array(1), array(1), array(1), array(1), array(1), array(0), array(0), array(0), array(0), array(0), array(0), array(0), array(0), array(0), array(1), array(1), array(1), array(1), array(1), array(1), array(1), array(1), array(1), array(1), array(1), array(0), array(0), array(0), array(0), array(0), array(0), array(0), array(0), array(1), array(1), array(1), array(1), array(1), array(1), array(1), array(1), array(1), array(1), array(1), array(0), array(0), array(0), array(0), array(0), array(0), array(0), array(0), array(0), array(0), array(0), array(1), array(1), array(1), array(1), array(1), array(1), array(1), array(1), array(1), array(1), array(1), array(1), array(1), array(1), array(0), array(0), array(0), array(0), array(0), array(0), array(0), array(0), array(0), array(0), array(0), array(0), array(1), array(1), array(1), array(1), array(1), array(1), array(1), array(0), array(0), array(0), array(0), array(0), array(0), array(0), array(0), array(0), array(0), array(0), array(1), array(1), array(1), array(1), array(1), array(1), array(1), array(1), array(1), array(1), array(1), array(1), array(0), array(0), array(0), array(0), array(0), array(0), array(0), array(0), array(0), array(0), array(1), array(1), array(1), array(1), array(1), array(1), array(1), array(1), array(1), array(1), array(1), array(1), array(1), array(0), array(0), array(0), array(0), array(0), array(0), array(0), array(0), array(0), array(0), array(0), array(1), array(1), array(1), array(1), array(1), array(1), array(0), array(0), array(0), array(0), array(0), array(0), array(0), array(0), array(0), array(1), array(1), array(1), array(1), array(1), array(1), array(1), array(0), array(0), array(0), array(0), array(1), array(1), array(1), array(1), array(1), array(1), array(1), array(0), array(0), array(0), array(0), array(1), array(1), array(1), array(1), array(1), array(1), array(0), array(0), array(0), array(0), array(1), array(1), array(1), array(1), array(0), array(0), array(0), array(0), array(0), array(0), array(0), array(0), array(0), array(0), array(0), array(1), array(1), array(1), array(1), array(1), array(0), array(0), array(0), array(0), array(0), array(0), array(0), array(0), array(1), array(1), array(1), array(1), array(1), array(1), array(1), array(1), array(0), array(0), array(0), array(0), array(1), array(1), array(1), array(0), array(0), array(0), array(0), array(0), array(0), array(0), array(0), array(1), array(1), array(1), array(1), array(1), array(1), array(1), array(1), array(1), array(1), array(1), array(0), array(0), array(0), array(0), array(0), array(0), array(1), array(1), array(1), array(1), array(1), array(1), array(1), array(1), array(1), array(1), array(0), array(0), array(0), array(0), array(0), array(0), array(0), array(0), array(0), array(1), array(1), array(1), array(1), array(1), array(1), array(1), array(1), array(1), array(0), array(0), array(0), array(0), array(0), array(0), array(0), array(0), array(0), array(0), array(1), array(1), array(1), array(1), array(1), array(1), array(1), array(0), array(0), array(0), array(0), array(0), array(0), array(0), array(0), array(0), array(0), array(0), array(0), array(0), array(0), array(1), array(1), array(1), array(1), array(0), array(0), array(0), array(0), array(0), array(0), array(0), array(0), array(0), array(0), array(1), array(1), array(1), array(1), array(1), array(1), array(1), array(1), array(1), array(1), array(0), array(0), array(0), array(0), array(0), array(0), array(0), array(1), array(1), array(1), array(1), array(1), array(1), array(1), array(0), array(0), array(0), array(0), array(0), array(1), array(1), array(1), array(1), array(1), array(1), array(1), array(1), array(0), array(0), array(0), array(0), array(0), array(0), array(0), array(0), array(0), array(1), array(1), array(1), array(1), array(1), array(1), array(1), array(1), array(1), array(0), array(0), array(0), array(1), array(1), array(1), array(1), array(1), array(1), array(0), array(0), array(0), array(0), array(0), array(1), array(1), array(1), array(1), array(1), array(1), array(0), array(0), array(0), array(0), array(0), array(0), array(1), array(1), array(1), array(1), array(0), array(0), array(0), array(0), array(0), array(0), array(1), array(1), array(1), array(0), array(0), array(0), array(0), array(0), array(0), array(1), array(1), array(1), array(1), array(0), array(0), array(0), array(0), array(0), array(0), array(0), array(0), array(1), array(1), array(1), array(1), array(1), array(1), array(1), array(1), array(1), array(1), array(0), array(0), array(0), array(0), array(0), array(1), array(1), array(1), array(1), array(1), array(1), array(0), array(0), array(0), array(0), array(0), array(0), array(0), array(0), array(0), array(1), array(1), array(1), array(1), array(1), array(1), array(1), array(0), array(0), array(0), array(0), array(0), array(1), array(1), array(1), array(1), array(1), array(0), array(0), array(0), array(0), array(0), array(0), array(0), array(0), array(0), array(0), array(1), array(1), array(1), array(0), array(0), array(1), array(1), array(1), array(1), array(1), array(1), array(1), array(0), array(0), array(0), array(0), array(0), array(0), array(1), array(1), array(1), array(1), array(1), array(1), array(1), array(1), array(0), array(0), array(0), array(0), array(0), array(0), array(0), array(1), array(1), array(1), array(1), array(1), array(1), array(0), array(0), array(0), array(1), array(1), array(1), array(1), array(1), array(1), array(0), array(0), array(0), array(0), array(0), array(0), array(0), array(0), array(0), array(0), array(1), array(1), array(1), array(1), array(1), array(1), array(1), array(1), array(0), array(0), array(0), array(0), array(0), array(0), array(1), array(1), array(1), array(1), array(1), array(1), array(1), array(1), array(0), array(0), array(0), array(0), array(0), array(0), array(0), array(0), array(1), array(1), array(1), array(1), array(1), array(1), array(0), array(0), array(0), array(0), array(0), array(0), array(0), array(0), array(0), array(1), array(1), array(1), array(1), array(1), array(1), array(0), array(0), array(0), array(0), array(0), array(0), array(0), array(1), array(1), array(1), array(1), array(1), array(1), array(1), array(0), array(0), array(0), array(0), array(0), array(0), array(0), array(0), array(0), array(0), array(1), array(1), array(1), array(1), array(1), array(1), array(0), array(0), array(0), array(0), array(1), array(1), array(1), array(1), array(0), array(0), array(0), array(0), array(1), array(1), array(1), array(1), array(1), array(1), array(0), array(0), array(0), array(1), array(1), array(1), array(1), array(1), array(1), array(0), array(0), array(0), array(0), array(1), array(1), array(1), array(1), array(0), array(1), array(1), array(1), array(1), array(1), array(0), array(0), array(0), array(0), array(0), array(0), array(0), array(1), array(1), array(1), array(1), array(1), array(0), array(0), array(0), array(1), array(1), array(1), array(1), array(1), array(1), array(1), array(0), array(0), array(0), array(0), array(0), array(1), array(1), array(0), array(0), array(0), array(0), array(0), array(0), array(0), array(0), array(0), array(1), array(1), array(1), array(0), array(0), array(0), array(1), array(1), array(1), array(1), array(1), array(1), array(1), array(0), array(0), array(0), array(0), array(0), array(0), array(0), array(1), array(1), array(1), array(0), array(0), array(0), array(0), array(1), array(1), array(1), array(1), array(0), array(0), array(0), array(1), array(1), array(1), array(1), array(1), array(1), array(1), array(1), array(0), array(1), array(1), array(1), array(0), array(0), array(0), array(0), array(0), array(0), array(1), array(1), array(1), array(1), array(0), array(0), array(0), array(1), array(1), array(1), array(1), array(1), array(1), array(1), array(1), array(0), array(0), array(1), array(1), array(1), array(1), array(0), array(0), array(0), array(0), array(0), array(1), array(1), array(1), array(1), array(1), array(1), array(0), array(0), array(0), array(1), array(1), array(1), array(1), array(1), array(1), array(1), array(0), array(0), array(1), array(1), array(1), array(1), array(0), array(0), array(1), array(1), array(1), array(1), array(1), array(1), array(1), array(0), array(0), array(0), array(0), array(0), array(0), array(1), array(1), array(1), array(1), array(1), array(1), array(1), array(1), array(1), array(1), array(0), array(0), array(0), array(1), array(1), array(1), array(1), array(1), array(1), array(1), array(0), array(0), array(0), array(0), array(1), array(1), array(1), array(1), array(1), array(1), array(0), array(0), array(1), array(1), array(1), array(0), array(0), array(1), array(1), array(1), array(1), array(0), array(0), array(0), array(0), array(0), array(0), array(1), array(1), array(1), array(1), array(1), array(1), array(1), array(1), array(1), array(0), array(0), array(0), array(0), array(0), array(0), array(0), array(0), array(0), array(0), array(1), array(1), array(1), array(1), array(0), array(1), array(1), array(1), array(0), array(1), array(1), array(1), array(1), array(0), array(0), array(0), array(0), array(1), array(1), array(1), array(1), array(0), array(0), array(0), array(0), array(1), array(1), array(1), array(1), array(1), array(1), array(1), array(0), array(0), array(0), array(1), array(1), array(1), array(1), array(1), array(1), array(1), array(1), array(0), array(0), array(0), array(0), array(0), array(1), array(1), array(1), array(1), array(1), array(1), array(1), array(0), array(0), array(1), array(1), array(0), array(0), array(0), array(1), array(1), array(1), array(1), array(0), array(0), array(0), array(0), array(0), array(0), array(0), array(0), array(1), array(1), array(1), array(0), array(0), array(0), array(0), array(1), array(1), array(1), array(1), array(0), array(0), array(0), array(0), array(0), array(1), array(1), array(1), array(1), array(1), array(0), array(0), array(0), array(0), array(0), array(0), array(1), array(1), array(1), array(0), array(0), array(0), array(1), array(1), array(1), array(0), array(0), array(0), array(1), array(1), array(1), array(0), array(0), array(1), array(1), array(1), array(1), array(1), array(1), array(1), array(1), array(0), array(0), array(0), array(0), array(1), array(0), array(0), array(0), array(0), array(0), array(0), array(0), array(1), array(1), array(1), array(0), array(0), array(1), array(1), array(1), array(1), array(1), array(0), array(0), array(0), array(1), array(1), array(1), array(1), array(1), array(0), array(0), array(0), array(0), array(0), array(1), array(1), array(1), array(1), array(1), array(1), array(0), array(0), array(0), array(0), array(1), array(1), array(1), array(0), array(0), array(0), array(0), array(0), array(1), array(1), array(1), array(1), array(1), array(0), array(0), array(0), array(1), array(1), array(1), array(1), array(0), array(0), array(0), array(0), array(0), array(0), array(0), array(1), array(1), array(1), array(1), array(1), array(0), array(0), array(0), array(0), array(0), array(0), array(1), array(1), array(1), array(1), array(1), array(1), array(1), array(1), array(1), array(0), array(0), array(0), array(1), array(1), array(1), array(1), array(1), array(1), array(0), array(0), array(0), array(1), array(1), array(1), array(1), array(1), array(1), array(1), array(1), array(1), array(0), array(0), array(0), array(0), array(1), array(1), array(1), array(1), array(1), array(1), array(1), array(0), array(0), array(1), array(0), array(0), array(1), array(0), array(0), array(0), array(0), array(0), array(0), array(0), array(1), array(1), array(1), array(0), array(0), array(0), array(1), array(1), array(1), array(1), array(0), array(0), array(0), array(0), array(1), array(1), array(1), array(1), array(1), array(1), array(1), array(1), array(0), array(0), array(0), array(0), array(0), array(1), array(1), array(1), array(1), array(1), array(0), array(0), array(0), array(0), array(1), array(1), array(1), array(0), array(0), array(0), array(1), array(1), array(0), array(0), array(0), array(1), array(1), array(1), array(1), array(0), array(0), array(0), array(0), array(0), array(1), array(1), array(1), array(1), array(0), array(0), array(0), array(0), array(1), array(1), array(0), array(0), array(1), array(1), array(1), array(1), array(0), array(0), array(0), array(0), array(0), array(0), array(1), array(1), array(0), array(0), array(0), array(0), array(0), array(0), array(0), array(0), array(1), array(1), array(1), array(1), array(1), array(1), array(1), array(1), array(0), array(0), array(0), array(0), array(1), array(1), array(0), array(0), array(0), array(0), array(0), array(1), array(1), array(1), array(1), array(1), array(0), array(0), array(0), array(0), array(1), array(1), array(1), array(1), array(0), array(0), array(1), array(1), array(1), array(0), array(0), array(1), array(1), array(1), array(0), array(0), array(0), array(1), array(1), array(1), array(1), array(1), array(1), array(1), array(1), array(0), array(0), array(0), array(0), array(0), array(0), array(0), array(0), array(1), array(0), array(0), array(0), array(0), array(1), array(1), array(1), array(1), array(0), array(1), array(1), array(1), array(0), array(0), array(0), array(0), array(0), array(0), array(0), array(0), array(0), array(1), array(1), array(0), array(1), array(1), array(1), array(1), array(0), array(0), array(0), array(1), array(1), array(1), array(1), array(1), array(0), array(0), array(1), array(1), array(1), array(0), array(0), array(0), array(1), array(1), array(0), array(0), array(1), array(1), array(0), array(0), array(0), array(0), array(1), array(1), array(0), array(0), array(0), array(0), array(1), array(1), array(1), array(1), array(1), array(0), array(0), array(1), array(1), array(1), array(1), array(0), array(0), array(0), array(0), array(1), array(1), array(1), array(1), array(1), array(1), array(1), array(1), array(0), array(0), array(0), array(1), array(1), array(1), array(1), array(1), array(1), array(1), array(0), array(0), array(0), array(1), array(1), array(0), array(0), array(0), array(1), array(0), array(1), array(1), array(0), array(0), array(0), array(0), array(0), array(1), array(0), array(0), array(0), array(1), array(1), array(1), array(0), array(0), array(0), array(1), array(1), array(1), array(0), array(1), array(1), array(1), array(1), array(0), array(0), array(1), array(1), array(1), array(1), array(0), array(0), array(1), array(1), array(1), array(1), array(1), array(1), array(1), array(1), array(1), array(1), array(1), array(1), array(0), array(1), array(1), array(0), array(0), array(1), array(0), array(0), array(0), array(0), array(0), array(1), array(1), array(1), array(1), array(1), array(1), array(0), array(1), array(1), array(1), array(0), array(0), array(0), array(0), array(1), array(0), array(0), array(1), array(1), array(1), array(0), array(0), array(0), array(1), array(0), array(0), array(0), array(0), array(0), array(1), array(1), array(1), array(1), array(0), array(1), array(1), array(1), array(0), array(0), array(0), array(0), array(0), array(0), array(0), array(0), array(0), array(1), array(1), array(1), array(0), array(0), array(1), array(1), array(1), array(0), array(0), array(0), array(1), array(1), array(1), array(1), array(1), array(1), array(0), array(0), array(0), array(1), array(0), array(0), array(0), array(0), array(1), array(1), array(1), array(1), array(1), array(0), array(0), array(1), array(1), array(1), array(1), array(0), array(0), array(1), array(1), array(1), array(1), array(1), array(1), array(0), array(0), array(0), array(1), array(1), array(1), array(1), array(0), array(1), array(1), array(1), array(0), array(0), array(0), array(0), array(0), array(1), array(1), array(1), array(0), array(0), array(1), array(1), array(0), array(0), array(0), array(0), array(0), array(0), array(1), array(1), array(1), array(0), array(1), array(1), array(1), array(0), array(1), array(1), array(1), array(0), array(1), array(1), array(1), array(1), array(0), array(0), array(0), array(0), array(0), array(0), array(0), array(1), array(1), array(1), array(1), array(0), array(0), array(1), array(1), array(0), array(0), array(1), array(1), array(1), array(0), array(0), array(0), array(0), array(0), array(1), array(1), array(1), array(0), array(0), array(1), array(1), array(1), array(1), array(0), array(0), array(0), array(0), array(0), array(0), array(0), array(0), array(1), array(1), array(0), array(0), array(0), array(0), array(0), array(0), array(0), array(0), array(0), array(1), array(1), array(1), array(1), array(1), array(0), array(1), array(1), array(1), array(1), array(0), array(0), array(1), array(1), array(1), array(1), array(0), array(0), array(0), array(1), array(1), array(1), array(1), array(0), array(1), array(0), array(0), array(0), array(0), array(1), array(1), array(1), array(0), array(0), array(1), array(1), array(1), array(1), array(1), array(1), array(1), array(1), array(1), array(0), array(0), array(0), array(1), array(1), array(0), array(0), array(1), array(1), array(0), array(0), array(0), array(0), array(1), array(1), array(1), array(1), array(0), array(0), array(0), array(1), array(1), array(0), array(0), array(0), array(0), array(0), array(1), array(1), array(1), array(1), array(0), array(0), array(0), array(1), array(0), array(0), array(1), array(1), array(0), array(1), array(1), array(0), array(0), array(0), array(0), array(1), array(0), array(0), array(1), array(0), array(0), array(0), array(1), array(1), array(0), array(1), array(1), array(1), array(0), array(0), array(0), array(0), array(0), array(0), array(0), array(0), array(0), array(1), array(1), array(1), array(1), array(0), array(0), array(0), array(0), array(1), array(0), array(0), array(0), array(0), array(0), array(1), array(1), array(1), array(1), array(0), array(0), array(0), array(0), array(0), array(1), array(1), array(1), array(0), array(0), array(0), array(1), array(0), array(0), array(1), array(0), array(0), array(0), array(1), array(1), array(0), array(0), array(1), array(1), array(1), array(0), array(0), array(1), array(1), array(1), array(1), array(0), array(1), array(1), array(1), array(1), array(1), array(0), array(0), array(0), array(0), array(1), array(1), array(1), array(1), array(1), array(1), array(1), array(0), array(0), array(0), array(0), array(0), array(0), array(0), array(1), array(1), array(0), array(0), array(1), array(1), array(1), array(0), array(0), array(0), array(0), array(1), array(1), array(1), array(0), array(1), array(1), array(1), array(0), array(0), array(0), array(1), array(1), array(0), array(0), array(0), array(0), array(0), array(1), array(1), array(1), array(0), array(0), array(0), array(0), array(0), array(0), array(1), array(1), array(0), array(1), array(1), array(1), array(0), array(0), array(0), array(0), array(0), array(1), array(1), array(1), array(1), array(0), array(1), array(0), array(0), array(0), array(0), array(1), array(1), array(1), array(0), array(0), array(0), array(1), array(1), array(0), array(0), array(1), array(0), array(0), array(0), array(1), array(1), array(0), array(0), array(1), array(1), array(1), array(1), array(0), array(1), array(1), array(1), array(0), array(0), array(1), array(1), array(1), array(1), array(0), array(0), array(0), array(0), array(0), array(0), array(1), array(1), array(1), array(1), array(1), array(0), array(0), array(1), array(0), array(0), array(1), array(1), array(0), array(1), array(1), array(0), array(0), array(1), array(1), array(1), array(0), array(1), array(1), array(0), array(0), array(1), array(1), array(1), array(1), array(1), array(1), array(1), array(0), array(0), array(1), array(1), array(0), array(0), array(0), array(1), array(0), array(0), array(1), array(1), array(0), array(0), array(1), array(1), array(1), array(0), array(0), array(0), array(1), array(0), array(0), array(0), array(1), array(0), array(1), array(1), array(0), array(0), array(1), array(1), array(1), array(0), array(0), array(1), array(1), array(1), array(0), array(0), array(1), array(1), array(1), array(0), array(1), array(1), array(1), array(0), array(1), array(1), array(0), array(1), array(1), array(1), array(0), array(1), array(1), array(0), array(0), array(0), array(0), array(1), array(1), array(0), array(0), array(1), array(1), array(1), array(0), array(1), array(1), array(1), array(0), array(0), array(1), array(1), array(0), array(0), array(1), array(1), array(1), array(1), array(0), array(0), array(1), array(1), array(1), array(1), array(0), array(1), array(1), array(0), array(0), array(0), array(1), array(0), array(0), array(0), array(1), array(1), array(1), array(1), array(0), array(1), array(1), array(1), array(1), array(0), array(0), array(0), array(1), array(0), array(1), array(1), array(1), array(0), array(1), array(0), array(1), array(1), array(1), array(1), array(1), array(1), array(0), array(0), array(1), array(1), array(0), array(0), array(0), array(0), array(1), array(0), array(0), array(0), array(1), array(0), array(1), array(0), array(0), array(0), array(0), array(1), array(0), array(0), array(0), array(1), array(0), array(1), array(1), array(1), array(0), array(0), array(0), array(1), array(1), array(0), array(0), array(0), array(0), array(1), array(1), array(0), array(0), array(0), array(0), array(1), array(0), array(1), array(1), array(0), array(0), array(0), array(1), array(1), array(1), array(0), array(1), array(0), array(0), array(0), array(0), array(1), array(1), array(1), array(1), array(1), array(1), array(0), array(0), array(0), array(1), array(0), array(0), array(1), array(1), array(0), array(0), array(0), array(0), array(0), array(0), array(0), array(1), array(0), array(0), array(1), array(1), array(1), array(0), array(0), array(1), array(1), array(1), array(1), array(1), array(0), array(0), array(0), array(1), array(1), array(0), array(0), array(0), array(1), array(0), array(1), array(0), array(0), array(1), array(0), array(0), array(0), array(1), array(0), array(0), array(1), array(1), array(1), array(1), array(0), array(0), array(1), array(1), array(0), array(0), array(1), array(1), array(0), array(0), array(1), array(0), array(0), array(0), array(1), array(1), array(0), array(0), array(1), array(0), array(0), array(0), array(0), array(1), array(1), array(1), array(1), array(0), array(1), array(1), array(0), array(0), array(0), array(1), array(1), array(0), array(1), array(0), array(0), array(1), array(1), array(1), array(0), array(0), array(0), array(0), array(1), array(1), array(0), array(0), array(0), array(0), array(0), array(0), array(0), array(1), array(0), array(0), array(1), array(0), array(1), array(0), array(1), array(0), array(1), array(0), array(1), array(0), array(0), array(0), array(1), array(1), array(0), array(0), array(0), array(1), array(1), array(0), array(0), array(0), array(0), array(1), array(1), array(1), array(1), array(0), array(0), array(1), array(0), array(0), array(1), array(0), array(0), array(1), array(1), array(0), array(1), array(1), array(0), array(0), array(1), array(0), array(1), array(1), array(0), array(0), array(0), array(0), array(1), array(0), array(1), array(0), array(0), array(1), array(0), array(0), array(1), array(0), array(1), array(0), array(0), array(0), array(0), array(1), array(0), array(0), array(0), array(1), array(1), array(1), array(0), array(0), array(1), array(1), array(0), array(1), array(1), array(0), array(0), array(1), array(1), array(0), array(1), array(1), array(0), array(0), array(1), array(0), array(0), array(0), array(0), array(0), array(0), array(1), array(1), array(1), array(1), array(1), array(0), array(1), array(1), array(0), array(0), array(0), array(0), array(0), array(0), array(1), array(1), array(0), array(0), array(1), array(1), array(1), array(0), array(0), array(1), array(0), array(0), array(1), array(1), array(0), array(0), array(1), array(0), array(0), array(1), array(1), array(1), array(0), array(0), array(1), array(0), array(0), array(0), array(1), array(1), array(1), array(0), array(0), array(1), array(0), array(0), array(1), array(1), array(1), array(0), array(1), array(1), array(0), array(1), array(0), array(1), array(0), array(0), array(0), array(0), array(0), array(0), array(0), array(1), array(1), array(1), array(0), array(0), array(0), array(1), array(1), array(0), array(1), array(0), array(1), array(0), array(1), array(0), array(0), array(0), array(1), array(0), array(1), array(1), array(0), array(0), array(0), array(1), array(1), array(0), array(1), array(1), array(1), array(0), array(0), array(1), array(1), array(1), array(0), array(0), array(1), array(1), array(0), array(0), array(0), array(0), array(1), array(1), array(1), array(0), array(0), array(1), array(1), array(1), array(0), array(0), array(1), array(1), array(0), array(0), array(0), array(1), array(0), array(1), array(0), array(0), array(0), array(0), array(1), array(0), array(1), array(0), array(1), array(0), array(0), array(0), array(1), array(0), array(0), array(1), array(0), array(1), array(0), array(1), array(0), array(0), array(0), array(0), array(0), array(0), array(0), array(1), array(0), array(0), array(0), array(1), array(0), array(0), array(0), array(0), array(0), array(0), array(0), array(1), array(1), array(1), array(0), array(1), array(0), array(1), array(1), array(1), array(0), array(0), array(1), array(1), array(0), array(0), array(0), array(0), array(0), array(0), array(0), array(1), array(0), array(1), array(1), array(0), array(0), array(1), array(1), array(1), array(1), array(1), array(1), array(1), array(1), array(0), array(0), array(0), array(0), array(1), array(0), array(0), array(0), array(1), array(0), array(0), array(0), array(0), array(0), array(0), array(0), array(0), array(1), array(1), array(1), array(1), array(0), array(0), array(1), array(0), array(1), array(0), array(0), array(0), array(1), array(1), array(1), array(1), array(0), array(0), array(0), array(0), array(0), array(0), array(0), array(0), array(0), array(1), array(0), array(1), array(0), array(1), array(1), array(0), array(1), array(1), array(0), array(1), array(1), array(0), array(1), array(0), array(1), array(1), array(0), array(0), array(0), array(0), array(1), array(0), array(1), array(1), array(0), array(0), array(1), array(1), array(0), array(0), array(0), array(0), array(0), array(0), array(1), array(1), array(0), array(1), array(0), array(0), array(1), array(1), array(1), array(1), array(1), array(1), array(1), array(0), array(0), array(0), array(0), array(1), array(0), array(0), array(0), array(1), array(1), array(1), array(0), array(0), array(1), array(1), array(0), array(1), array(1), array(1), array(0), array(1), array(1), array(0), array(1), array(0), array(1), array(1), array(1), array(0), array(0), array(1), array(0), array(0), array(1), array(1), array(1), array(1), array(0), array(0), array(1), array(0), array(0), array(0), array(1), array(1), array(0), array(0), array(1), array(1), array(1), array(0), array(1), array(0), array(1), array(1), array(1), array(1), array(0), array(0), array(0), array(0), array(0), array(0), array(0), array(1), array(1), array(0), array(0), array(1), array(0), array(1), array(1), array(1), array(1), array(1), array(1), array(0), array(0), array(0), array(1), array(1), array(1), array(0), array(1), array(1), array(1), array(1), array(0), array(0), array(0), array(0), array(1), array(0), array(0), array(0), array(1), array(1), array(0), array(0), array(0), array(1), array(0), array(1), array(1), array(1), array(0), array(1), array(1), array(0), array(1), array(0), array(0), array(0), array(0), array(1), array(0), array(1), array(0), array(0), array(1), array(0), array(1), array(1), array(1), array(1), array(0), array(1), array(1), array(0), array(1), array(1), array(0), array(0), array(1), array(0), array(0), array(0), array(0), array(1), array(0), array(0), array(1), array(1)]\n"
          ]
        }
      ]
    },
    {
      "cell_type": "code",
      "source": [
        "from sklearn.metrics import f1_score,precision_score,recall_score,accuracy_score\n",
        "print(precision_score(y_trues,y_preds))\n",
        "print(f1_score(y_trues,y_preds))\n",
        "print(recall_score(y_trues,y_preds))\n",
        "from sklearn import metrics\n",
        "fpr, tpr, _ = metrics.roc_curve(y_trues,  y_preds)\n",
        "auc = metrics.roc_auc_score(y_trues, y_preds)\n",
        "\n",
        "#create ROC curve\n",
        "plt.plot(fpr,tpr,label=\"AUC=\"+str(auc))\n",
        "plt.ylabel('True Positive Rate')\n",
        "plt.xlabel('False Positive Rate')\n",
        "plt.legend(loc=4)\n",
        "plt.show()"
      ],
      "metadata": {
        "colab": {
          "base_uri": "https://localhost:8080/",
          "height": 331
        },
        "id": "mmAKE4ziBgwN",
        "outputId": "5239c251-5dda-4bda-994c-c69d22054c4e"
      },
      "execution_count": null,
      "outputs": [
        {
          "output_type": "stream",
          "name": "stdout",
          "text": [
            "0.945\n",
            "0.9028662420382165\n",
            "0.864329268292683\n"
          ]
        },
        {
          "output_type": "display_data",
          "data": {
            "text/plain": [
              "<Figure size 432x288 with 1 Axes>"
            ],
            "image/png": "[encoded data removed]"
          },
          "metadata": {
            "needs_background": "light"
          }
        }
      ]
    }
  ]
}